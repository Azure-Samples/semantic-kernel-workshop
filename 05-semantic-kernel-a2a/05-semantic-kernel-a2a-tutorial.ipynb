{
  "cells": [
    {
      "cell_type": "markdown",
      "metadata": {
        "vscode": {
          "languageId": "raw"
        }
      },
      "source": [
        "# Semantic Kernel  & Agent-to-Agent (A2A) Protocol\n",
        "\n",
        "This notebook demonstrates how to implement Agent-to-Agent (A2A) communication using Semantic Kernel. We'll create two agents:\n",
        "\n",
        "1. **Flight Booking Agent** - A specialized agent that handles flight bookings\n",
        "2. **Travel Planning Agent** - A general travel agent that uses the flight booking agent as a tool\n",
        "\n",
        "## What does Agent-to-Agent (A2A) Protocol offer?\n",
        "\n",
        "A2A Protocol allows different AI agents to work together by calling each other's services. This creates a distributed system where:\n",
        "\n",
        "- Each agent can specialize in specific tasks\n",
        "- Agents can leverage other agents' capabilities\n",
        "- The system becomes more modular and scalable\n",
        "\n",
        "## Architecture Overview\n",
        "\n",
        "```\n",
        "User Request → Travel Planning Agent → Flight Booking Agent → Response\n",
        "```\n",
        "\n",
        "The Travel Planning Agent acts as an orchestrator that can handle various travel-related tasks, and when it needs to book flights, it communicates with the specialized Flight Booking Agent through the A2A protocol.\n"
      ]
    },
    {
      "cell_type": "markdown",
      "metadata": {
        "vscode": {
          "languageId": "raw"
        }
      },
      "source": [
        "## Prerequisites and Setup\n",
        "\n",
        "First, let's install the required dependencies and set up our environment.\n"
      ]
    },
    {
      "cell_type": "code",
      "execution_count": null,
      "metadata": {
        "vscode": {
          "languageId": "shellscript"
        }
      },
      "outputs": [],
      "source": [
        "# Install required packages\n",
        "# If you already did the uv configuration, you can skip this step\n",
        "#%pip install semantic-kernel python-dotenv fastapi uvicorn httpx a2a-sdk"
      ]
    },
    {
      "cell_type": "code",
      "execution_count": null,
      "metadata": {},
      "outputs": [],
      "source": [
        "# Import necessary libraries\n",
        "import os\n",
        "import logging\n",
        "import threading\n",
        "from uuid import uuid4\n",
        "from typing import Dict, Any\n",
        "\n",
        "# Third-party imports\n",
        "import httpx\n",
        "import uvicorn\n",
        "from dotenv import load_dotenv\n",
        "\n",
        "# Configure logging\n",
        "logging.basicConfig(\n",
        "    level=logging.INFO,\n",
        "    format='%(asctime)s - %(name)s - %(levelname)s - %(message)s'\n",
        ")\n",
        "logger = logging.getLogger(__name__)\n",
        "\n",
        "# Load environment variables\n",
        "load_dotenv('../.env')\n",
        "\n",
        "print(\"✅ Dependencies installed and environment configured!\")\n"
      ]
    },
    {
      "cell_type": "code",
      "execution_count": null,
      "metadata": {},
      "outputs": [],
      "source": [
        "# Verify environment variables\n",
        "required_vars = [\n",
        "    'AZURE_OPENAI_API_KEY',\n",
        "    'AZURE_OPENAI_ENDPOINT',\n",
        "    'AZURE_OPENAI_API_VERSION',\n",
        "    'AZURE_OPENAI_CHAT_DEPLOYMENT_NAME'\n",
        "]\n",
        "\n",
        "for var in required_vars:\n",
        "    if os.getenv(var):\n",
        "        print(f\"✅ {var} is set\")\n",
        "    else:\n",
        "        print(f\"❌ {var} is not set\")\n",
        "\n",
        "# Set A2A server URL if not already set\n",
        "if not os.getenv('A2A_SERVER_URL'):\n",
        "    os.environ['A2A_SERVER_URL'] = 'http://localhost:9999'\n",
        "    print(\"🔧 A2A_SERVER_URL set to default: http://localhost:9999\")\n"
      ]
    },
    {
      "cell_type": "markdown",
      "metadata": {
        "vscode": {
          "languageId": "raw"
        }
      },
      "source": [
        "## Part 1: Flight Booking Agent Implementation\n",
        "\n",
        "The Flight Booking Agent is a specialized agent that handles flight booking requests. It understands user requests and maintain conversation context.\n",
        "\n",
        "### Key Features:\n",
        "- Specialized in flight booking tasks\n",
        "- Maintains conversation context per user\n",
        "- Provides booking confirmation summaries\n"
      ]
    },
    {
      "cell_type": "code",
      "execution_count": null,
      "metadata": {},
      "outputs": [],
      "source": [
        "# Import Semantic Kernel components\n",
        "from semantic_kernel.agents.chat_completion.chat_completion_agent import ChatCompletionAgent, ChatHistoryAgentThread\n",
        "from semantic_kernel.connectors.ai.open_ai import AzureChatCompletion\n",
        "from semantic_kernel.contents.chat_message_content import ChatMessageContent\n",
        "from semantic_kernel.contents.chat_history import ChatHistory\n",
        "\n",
        "class SemanticKernelFlightBookingAgent:\n",
        "    \"\"\"A flight booking agent using Semantic Kernel and Azure OpenAI.\"\"\"\n",
        "\n",
        "    def __init__(self):\n",
        "        \"\"\"Initialize the flight booking agent with Azure OpenAI service.\"\"\"\n",
        "        logger.info(\"Initializing SemanticKernelFlightBookingAgent.\")\n",
        "\n",
        "        self.chat_agent = ChatCompletionAgent(\n",
        "            service=AzureChatCompletion(),\n",
        "            name=\"FlightBookingAssistant\",\n",
        "            instructions=(\n",
        "                \"You are a helpful flight booking assistant. \"\n",
        "                \"Your task is to help users book flights by gathering necessary information \"\n",
        "                \"such as departure city, destination city, travel dates, number of passengers, \"\n",
        "                \"and preferred class of service. Once you have all the required information, \"\n",
        "                \"provide a confirmation summary and simulate a successful booking.\"\n",
        "            )\n",
        "        )\n",
        "\n",
        "        # Store chat history per context to maintain conversation state\n",
        "        self.history_store: dict[str, ChatHistory] = {}\n",
        "\n",
        "        logger.info(\"SemanticKernelFlightBookingAgent initialized successfully.\")\n",
        "\n",
        "    def _get_or_create_chat_history(self, context_id: str) -> ChatHistory:\n",
        "        \"\"\"Get existing chat history or create a new one for the given context.\"\"\"\n",
        "        chat_history = self.history_store.get(context_id)\n",
        "\n",
        "        if chat_history is None:\n",
        "            chat_history = ChatHistory(\n",
        "                messages=[],\n",
        "                system_message=(\n",
        "                    \"You are a helpful flight booking assistant. \"\n",
        "                    \"Help users book flights by gathering all necessary information: \"\n",
        "                    \"departure city, destination city, travel dates, number of passengers, \"\n",
        "                    \"and preferred class. Once you have complete information, \"\n",
        "                    \"provide a booking confirmation summary.\"\n",
        "                )\n",
        "            )\n",
        "            self.history_store[context_id] = chat_history\n",
        "            logger.info(f\"Created new ChatHistory for context ID: {context_id}\")\n",
        "\n",
        "        return chat_history\n",
        "\n",
        "    async def chat(self, user_input: str, context_id: str) -> str:\n",
        "        \"\"\"\n",
        "        Process a flight booking request from the user.\n",
        "\n",
        "        Args:\n",
        "            user_input: The user's request for flight booking\n",
        "            context_id: The context ID for maintaining conversation state\n",
        "\n",
        "        Returns:\n",
        "            The response from the flight booking agent\n",
        "        \"\"\"\n",
        "        logger.info(f\"Received flight booking request: {user_input} with context ID: {context_id}\")\n",
        "\n",
        "        if not user_input or not user_input.strip():\n",
        "            logger.error(\"User input is empty.\")\n",
        "            raise ValueError(\"User input cannot be empty.\")\n",
        "\n",
        "        try:\n",
        "            # Get or create chat history for the context\n",
        "            chat_history = self._get_or_create_chat_history(context_id)\n",
        "\n",
        "            # Add user input to chat history\n",
        "            chat_history.messages.append(\n",
        "                ChatMessageContent(role=\"user\", content=user_input))\n",
        "\n",
        "            # Create a new thread from the chat history\n",
        "            thread = ChatHistoryAgentThread(\n",
        "                chat_history=chat_history, thread_id=str(uuid4()))\n",
        "\n",
        "            # Get response from the agent\n",
        "            response = await self.chat_agent.get_response(message=user_input, thread=thread)\n",
        "\n",
        "            # Add assistant response to chat history\n",
        "            chat_history.messages.append(ChatMessageContent(\n",
        "                role=\"assistant\", content=response.content.content))\n",
        "\n",
        "\n",
        "            logger.info(f\"Chat history length is {len(chat_history.messages)} messages for context ID: {context_id}\")\n",
        "            logger.info(f\"Flight booking agent response: {response.content.content}\")\n",
        "\n",
        "            return response.content.content\n",
        "\n",
        "        except Exception as e:\n",
        "            logger.error(f\"Error processing flight booking request: {e}\")\n",
        "            return f\"I apologize, but I encountered an error while processing your flight booking request: {str(e)}\"\n",
        "\n",
        "# Create an instance of the flight booking agent\n",
        "flight_booking_agent = SemanticKernelFlightBookingAgent()\n",
        "print(\"✅ Flight Booking Agent created successfully!\")\n"
      ]
    },
    {
      "cell_type": "markdown",
      "metadata": {
        "vscode": {
          "languageId": "raw"
        }
      },
      "source": [
        "### Test the Flight Booking Agent\n",
        "\n",
        "Let's test our flight booking agent directly to see how it works:\n"
      ]
    },
    {
      "cell_type": "code",
      "execution_count": null,
      "metadata": {},
      "outputs": [],
      "source": [
        "response = await flight_booking_agent.chat(  \n",
        "    user_input=\"I want to book a flight from New York to London on July 15th\", \n",
        "    context_id=\"test_context_1\"\n",
        ")\n",
        "print(\"-\" * 50)\n",
        "print(\"Final Response\")\n",
        "print(\"-\" * 50)\n",
        "print(f\"Agent: {response}\")\n",
        "print(\"-\" * 50)"
      ]
    },
    {
      "cell_type": "code",
      "execution_count": null,
      "metadata": {},
      "outputs": [],
      "source": [
        "response = await flight_booking_agent.chat(\n",
        "    user_input=\"I need it for 2 passengers, business class\", \n",
        "    context_id=\"test_context_1\"\n",
        ")\n",
        "print(\"-\" * 50)\n",
        "print(\"Final Response\")\n",
        "print(\"-\" * 50)\n",
        "print(f\"Agent: {response}\")\n",
        "print(\"-\" * 50)"
      ]
    },
    {
      "cell_type": "code",
      "execution_count": null,
      "metadata": {},
      "outputs": [],
      "source": [
        "response = await flight_booking_agent.chat(\n",
        "        \"Book a flight to Paris tomorrow\", \n",
        "        \"test_context_2\"\n",
        "    )\n",
        "print(\"-\" * 50)\n",
        "print(\"Final Response\")\n",
        "print(\"-\" * 50)\n",
        "print(f\"Agent: {response}\")\n",
        "print(\"-\" * 50)"
      ]
    },
    {
      "cell_type": "markdown",
      "metadata": {
        "vscode": {
          "languageId": "raw"
        }
      },
      "source": [
        "## Part 2: A2A Server Components\n",
        "\n",
        "To enable Agent-to-Agent communication, we need to create server components that expose our flight booking agent through the A2A protocol. This involves:\n",
        "\n",
        "1. **Agent Executor**: Handles A2A protocol integration\n",
        "2. **Agent Card**: Describes the agent's capabilities\n",
        "3. **A2A Server**: Exposes the agent via HTTP API\n",
        "\n",
        "### Agent Executor\n",
        "\n",
        "The Agent Executor bridges our flight booking agent with the A2A protocol:\n"
      ]
    },
    {
      "cell_type": "code",
      "execution_count": null,
      "metadata": {},
      "outputs": [],
      "source": [
        "# Import A2A SDK components\n",
        "from a2a.server.agent_execution import AgentExecutor, RequestContext\n",
        "from a2a.server.events import EventQueue\n",
        "from a2a.utils import new_agent_text_message, new_task\n",
        "\n",
        "class SemanticKernelFlightBookingAgentExecutor(AgentExecutor):\n",
        "    \"\"\"Executor for SemanticKernelFlightBookingAgent that handles A2A protocol integration.\"\"\"\n",
        "\n",
        "    def __init__(self):\n",
        "        \"\"\"Initialize the executor with a flight booking agent instance.\"\"\"\n",
        "        logger.info(\"Initializing SemanticKernelFlightBookingAgentExecutor.\")\n",
        "        self.agent = SemanticKernelFlightBookingAgent()\n",
        "        logger.info(\"SemanticKernelFlightBookingAgentExecutor initialized successfully.\")\n",
        "\n",
        "    async def execute(\n",
        "        self,\n",
        "        context: RequestContext,\n",
        "        event_queue: EventQueue,\n",
        "    ) -> None:\n",
        "        \"\"\"\n",
        "        Execute a flight booking request.\n",
        "\n",
        "        Args:\n",
        "            context: The request context containing user input and task information\n",
        "            event_queue: Queue for sending events and responses\n",
        "        \"\"\"\n",
        "        user_input = context.get_user_input()\n",
        "        task = context.current_task\n",
        "        context_id = context.context_id\n",
        "\n",
        "        # Create a new task if one doesn't exist\n",
        "        if not task:\n",
        "            task = new_task(context.message)\n",
        "            await event_queue.enqueue_event(task)\n",
        "\n",
        "        logger.info(f\"Executing flight booking - User input: {user_input}, Task ID: {task.id}, Context ID: {context_id}\")\n",
        "\n",
        "        try:\n",
        "            # Process the flight booking request\n",
        "            result = await self.agent.chat(user_input, context_id)\n",
        "\n",
        "            # Send the result back through the event queue\n",
        "            await event_queue.enqueue_event(new_agent_text_message(result))\n",
        "\n",
        "            logger.info(\"Flight booking executed successfully.\")\n",
        "\n",
        "        except ValueError as ve:\n",
        "            logger.error(f\"Validation error during flight booking: {ve}\")\n",
        "            await event_queue.enqueue_event(\n",
        "                new_agent_text_message(f\"I need more information to help you book a flight: {str(ve)}\")\n",
        "            )\n",
        "\n",
        "        except Exception as e:\n",
        "            logger.error(f\"Unexpected error during flight booking execution: {e}\")\n",
        "            await event_queue.enqueue_event(\n",
        "                new_agent_text_message(\n",
        "                    \"I apologize, but I encountered an error while processing your flight booking request. \"\n",
        "                    \"Please try again or contact support if the issue persists.\"\n",
        "                )\n",
        "            )\n",
        "\n",
        "    async def cancel(\n",
        "        self,\n",
        "        context: RequestContext,\n",
        "        event_queue: EventQueue\n",
        "    ) -> None:\n",
        "        \"\"\"\n",
        "        Handle cancellation requests.\n",
        "\n",
        "        Args:\n",
        "            context: The request context\n",
        "            event_queue: Queue for sending events\n",
        "        \"\"\"\n",
        "        logger.warning(\"Cancel operation requested but not supported for flight booking agent.\")\n",
        "        raise Exception('Cancel operation not supported for flight booking operations.')\n",
        "\n",
        "print(\"✅ Agent Executor created successfully!\")\n"
      ]
    },
    {
      "cell_type": "markdown",
      "metadata": {
        "vscode": {
          "languageId": "raw"
        }
      },
      "source": [
        "### A2A Server Configuration\n",
        "\n",
        "Now we'll create the A2A server that exposes our flight booking agent. This includes:\n",
        "\n",
        "1. **Agent Card**: Describes the agent's capabilities and skills\n",
        "2. **Server Application**: Handles HTTP requests and routes them to our agent\n"
      ]
    },
    {
      "cell_type": "code",
      "execution_count": null,
      "metadata": {},
      "outputs": [],
      "source": [
        "# Import A2A server components\n",
        "from a2a.server.apps import A2AStarletteApplication\n",
        "from a2a.server.request_handlers import DefaultRequestHandler\n",
        "from a2a.server.tasks import InMemoryTaskStore\n",
        "from a2a.types import (\n",
        "    AgentCapabilities,\n",
        "    AgentCard,\n",
        "    AgentSkill,\n",
        ")\n",
        "\n",
        "# Server configuration\n",
        "SERVER_HOST = \"0.0.0.0\"\n",
        "SERVER_PORT = 9999\n",
        "\n",
        "def create_flight_booking_skill() -> AgentSkill:\n",
        "    \"\"\"Create and return the flight booking skill configuration.\"\"\"\n",
        "    return AgentSkill(\n",
        "        id='flight_booking',\n",
        "        name='Flight Booking',\n",
        "        description='Assists users in booking flights based on their requests.',\n",
        "        tags=['flight', 'booking', 'travel'],\n",
        "        examples=[\n",
        "            'Book a flight from New York to London next Monday.',\n",
        "            'I need a flight to Paris tomorrow morning.',\n",
        "        ],\n",
        "    )\n",
        "\n",
        "def create_agent_card() -> AgentCard:\n",
        "    \"\"\"Create and return the agent card configuration.\"\"\"\n",
        "    return AgentCard(\n",
        "        name='Semantic Kernel Flight Booking Agent',\n",
        "        description='An agent that helps users book flights using semantic kernel capabilities.',\n",
        "        capabilities=AgentCapabilities(streaming=True),\n",
        "        url=os.environ.get('A2A_SERVER_URL'),\n",
        "        version='1.0.0',\n",
        "        defaultInputModes=['text'],\n",
        "        defaultOutputModes=['text'],\n",
        "        skills=[create_flight_booking_skill()],\n",
        "        supportsAuthenticatedExtendedCard=False,\n",
        "    )\n",
        "\n",
        "def create_flight_booking_server() -> A2AStarletteApplication:\n",
        "    \"\"\"Create and configure the A2A server application.\"\"\"\n",
        "    # Initialize request handler with the flight booking agent executor\n",
        "    request_handler = DefaultRequestHandler(\n",
        "        agent_executor=SemanticKernelFlightBookingAgentExecutor(),\n",
        "        task_store=InMemoryTaskStore(),\n",
        "    )\n",
        "\n",
        "    # Create and return the server application\n",
        "    return A2AStarletteApplication(\n",
        "        agent_card=create_agent_card(),\n",
        "        http_handler=request_handler,\n",
        "    )\n",
        "\n",
        "print(\"✅ A2A Server configuration created successfully!\")\n"
      ]
    },
    {
      "cell_type": "markdown",
      "metadata": {
        "vscode": {
          "languageId": "raw"
        }
      },
      "source": [
        "### Start the Flight Booking A2A Server\n",
        "\n",
        "Now let's start the A2A server that will expose our flight booking agent. This server will run in the background so it doesn't block the rest of our notebook:\n"
      ]
    },
    {
      "cell_type": "code",
      "execution_count": null,
      "metadata": {},
      "outputs": [
        {
          "name": "stdout",
          "output_type": "stream",
          "text": [
            "INFO:     127.0.0.1:60818 - \"GET /.well-known/agent.json HTTP/1.1\" 200 OK\n"
          ]
        },
        {
          "name": "stderr",
          "output_type": "stream",
          "text": [
            "2025-07-11 10:14:12,705 - __main__ - INFO - Executing flight booking - User input: Book a flight from Cairo to Paris departing on November 15th for 5 days, Economy class, for one passenger., Task ID: 73ff7c6f-61f5-40ae-b454-dfca93c1617b, Context ID: travel_booking_context\n",
            "2025-07-11 10:14:12,706 - __main__ - INFO - Received flight booking request: Book a flight from Cairo to Paris departing on November 15th for 5 days, Economy class, for one passenger. with context ID: travel_booking_context\n",
            "2025-07-11 10:14:14,514 - httpx - INFO - HTTP Request: POST https://aoai-sweden-gbb-dev.openai.azure.com/openai/deployments/gpt-4o/chat/completions?api-version=2025-03-01-preview \"HTTP/1.1 200 OK\"\n",
            "2025-07-11 10:14:14,515 - semantic_kernel.connectors.ai.open_ai.services.open_ai_handler - INFO - OpenAI usage: CompletionUsage(completion_tokens=161, prompt_tokens=2348, total_tokens=2509, completion_tokens_details=CompletionTokensDetails(accepted_prediction_tokens=0, audio_tokens=0, reasoning_tokens=0, rejected_prediction_tokens=0), prompt_tokens_details=PromptTokensDetails(audio_tokens=0, cached_tokens=0))\n",
            "2025-07-11 10:14:14,516 - __main__ - INFO - Chat history length is 31 messages for context ID: travel_booking_context\n",
            "2025-07-11 10:14:14,517 - __main__ - INFO - Flight booking agent response: Thank you for confirming the details. Here's a summary of your flight booking request:\n",
            "\n",
            "- **Departure City:** Cairo\n",
            "- **Destination City:** Paris\n",
            "- **Departure Date:** November 15th\n",
            "- **Return Date:** November 20th (5-day trip)\n",
            "- **Number of Passengers:** 1\n",
            "- **Class of Service:** Economy Class\n",
            "\n",
            "I'll proceed with booking this flight for you. Please hold on for a moment.\n",
            "\n",
            "---\n",
            "\n",
            "Your flight from Cairo to Paris, departing on November 15th and returning on November 20th, for one passenger in Economy Class has been successfully confirmed!\n",
            "\n",
            "You will receive additional details, including your itinerary and e-tickets, via email shortly. If there are any more questions or further assistance is needed, feel free to ask. Safe travels!\n",
            "2025-07-11 10:14:14,518 - __main__ - INFO - Flight booking executed successfully.\n"
          ]
        },
        {
          "name": "stdout",
          "output_type": "stream",
          "text": [
            "INFO:     127.0.0.1:60818 - \"POST / HTTP/1.1\" 200 OK\n"
          ]
        }
      ],
      "source": [
        "# Function to start the A2A server in a separate thread\n",
        "def start_a2a_server():\n",
        "    \"\"\"Start the A2A server in a separate thread.\"\"\"\n",
        "    server = create_flight_booking_server()\n",
        "    uvicorn.run(server.build(), host=SERVER_HOST, port=SERVER_PORT)\n",
        "\n",
        "# Start the server in a background thread\n",
        "server_thread = threading.Thread(target=start_a2a_server, daemon=True)\n",
        "server_thread.start()\n"
      ]
    },
    {
      "cell_type": "code",
      "execution_count": null,
      "metadata": {},
      "outputs": [],
      "source": [
        "async with httpx.AsyncClient() as client:\n",
        "    response = await client.get(f\"http://localhost:{SERVER_PORT}/.well-known/agent.json\")\n",
        "    if response.status_code == 200:\n",
        "        print(\"✅ A2A Server is running successfully!\")\n",
        "        agent_card = response.json()\n",
        "        print(f\"Agent Name: {agent_card.get('name')}\")\n",
        "        print(f\"Agent Description: {agent_card.get('description')}\")\n",
        "        print(f\"Agent Skills: {[skill.get('name') for skill in agent_card.get('skills', [])]}\")"
      ]
    },
    {
      "cell_type": "markdown",
      "metadata": {
        "vscode": {
          "languageId": "raw"
        }
      },
      "source": [
        "## Part 3: Travel Planning Agent with A2A Integration\n",
        "\n",
        "Now we'll create a Travel Planning Agent that can handle various travel-related tasks. When it needs to book flights, it will communicate with our Flight Booking Agent through the A2A protocol.\n",
        "\n",
        "### Key Features:\n",
        "- General travel planning capabilities\n",
        "- Uses the Flight Booking Agent as a tool via A2A\n",
        "- Demonstrates agent-to-agent communication\n",
        "- Maintains conversation context\n"
      ]
    },
    {
      "cell_type": "code",
      "execution_count": null,
      "metadata": {},
      "outputs": [],
      "source": [
        "# Import A2A client components\n",
        "from a2a.client import A2ACardResolver, A2AClient\n",
        "from a2a.types import MessageSendParams, SendMessageRequest\n",
        "from semantic_kernel.functions.kernel_function_decorator import kernel_function\n",
        "\n",
        "# Configuration\n",
        "FLIGHT_BOOKING_AGENT_URL = os.getenv(\"A2A_SERVER_URL\", \"http://localhost:9999\")\n",
        "\n",
        "class FlightBookingTool:\n",
        "    \"\"\"Tool for booking flights using the flight booking agent.\"\"\"\n",
        "\n",
        "    @kernel_function(\n",
        "        description=\"Book a flight using the flight booking agent\",\n",
        "        name=\"book_flight\"\n",
        "    )\n",
        "    async def book_flight(self, user_input: str) -> str:\n",
        "        \"\"\"\n",
        "        Book a flight using the external flight booking agent.\n",
        "\n",
        "        Args:\n",
        "            user_input: The user's flight booking request\n",
        "\n",
        "        Returns:\n",
        "            The response from the flight booking agent\n",
        "        \"\"\"\n",
        "        try:\n",
        "            async with httpx.AsyncClient() as httpx_client:\n",
        "                # Resolve the agent card from the flight booking agent\n",
        "                resolver = A2ACardResolver(\n",
        "                    httpx_client=httpx_client, \n",
        "                    base_url=FLIGHT_BOOKING_AGENT_URL\n",
        "                )\n",
        "                agent_card = await resolver.get_agent_card()\n",
        "\n",
        "                # Create A2A client\n",
        "                client = A2AClient(\n",
        "                    httpx_client=httpx_client,\n",
        "                    agent_card=agent_card\n",
        "                )\n",
        "\n",
        "                # Prepare the request\n",
        "                request = SendMessageRequest(\n",
        "                    id=str(uuid4()),\n",
        "                    params=MessageSendParams(\n",
        "                        message={\n",
        "                            \"messageId\": uuid4().hex,\n",
        "                            \"role\": \"user\",\n",
        "                            \"parts\": [{\"text\": user_input}],\n",
        "                            \"contextId\": \"travel_booking_context\",\n",
        "                        }\n",
        "                    )\n",
        "                )\n",
        "\n",
        "                # Send the message to the flight booking agent\n",
        "                response = await client.send_message(request)\n",
        "                result = response.model_dump(mode='json', exclude_none=True)\n",
        "\n",
        "                logger.info(f\"Flight booking tool response: {result}\")\n",
        "                return result[\"result\"][\"parts\"][0][\"text\"]\n",
        "\n",
        "        except Exception as e:\n",
        "            logger.error(f\"Error booking flight: {e}\")\n",
        "            return f\"Sorry, I encountered an error while trying to book your flight: {str(e)}\"\n",
        "\n",
        "print(\"✅ Flight Booking Tool created successfully!\")\n"
      ]
    },
    {
      "cell_type": "code",
      "execution_count": null,
      "metadata": {},
      "outputs": [],
      "source": [
        "# Travel Planning Agent Implementation\n",
        "def create_travel_agent() -> ChatCompletionAgent:\n",
        "    \"\"\"Create and configure the travel planning agent.\"\"\"\n",
        "    return ChatCompletionAgent(\n",
        "        service=AzureChatCompletion(),\n",
        "        name=\"TravelPlanner\",\n",
        "        instructions=(\n",
        "            \"You are a helpful travel planning assistant. \"\n",
        "            \"Use the provided tools to assist users with their travel plans. \"\n",
        "            \"When users ask about flights, use the book_flight tool to help them. \"\n",
        "            \"You can also provide general travel advice, recommendations, and assistance \"\n",
        "            \"with other travel-related tasks.\"\n",
        "        ),\n",
        "        plugins=[FlightBookingTool()]\n",
        "    )\n",
        "\n",
        "# Global chat history store for the travel agent\n",
        "travel_chat_history_store: dict[str, ChatHistory] = {}\n",
        "\n",
        "def get_or_create_travel_chat_history(context_id: str) -> ChatHistory:\n",
        "    \"\"\"Get existing chat history or create a new one for the given context.\"\"\"\n",
        "    chat_history = travel_chat_history_store.get(context_id)\n",
        "\n",
        "    if chat_history is None:\n",
        "        chat_history = ChatHistory(\n",
        "            messages=[],\n",
        "            system_message=(\n",
        "                \"You are a travel planning assistant. \"\n",
        "                \"Your task is to help the user with their travel plans, including booking flights.\"\n",
        "            )\n",
        "        )\n",
        "        travel_chat_history_store[context_id] = chat_history\n",
        "        logger.info(f\"Created new ChatHistory for context ID: {context_id}\")\n",
        "\n",
        "    return chat_history\n",
        "\n",
        "# Initialize the travel agent\n",
        "travel_planning_agent = create_travel_agent()\n",
        "\n",
        "async def chat_with_travel_agent(user_input: str, context_id: str = \"default\") -> str:\n",
        "    \"\"\"\n",
        "    Handle chat requests with the travel planning agent.\n",
        "\n",
        "    Args:\n",
        "        user_input: The user's message\n",
        "        context_id: Context identifier for maintaining chat history\n",
        "\n",
        "    Returns:\n",
        "        The agent's reply\n",
        "    \"\"\"\n",
        "    logger.info(f\"Received travel chat request: {user_input} with context ID: {context_id}\")\n",
        "\n",
        "    try:\n",
        "        # Get or create chat history for the context\n",
        "        chat_history = get_or_create_travel_chat_history(context_id)\n",
        "\n",
        "        # Add user input to chat history\n",
        "        chat_history.messages.append(\n",
        "            ChatMessageContent(role=\"user\", content=user_input))\n",
        "\n",
        "        # Create a new thread from the chat history\n",
        "        thread = ChatHistoryAgentThread(\n",
        "            chat_history=chat_history, thread_id=str(uuid4()))\n",
        "\n",
        "        # Get response from the agent\n",
        "        response = await travel_planning_agent.get_response(message=user_input, thread=thread)\n",
        "\n",
        "        # Add assistant response to chat history\n",
        "        chat_history.messages.append(ChatMessageContent(\n",
        "            role=\"assistant\", content=response.content.content))\n",
        "\n",
        "        logger.info(f\"Travel agent response: {response.content.content}\")\n",
        "\n",
        "        return response.content.content\n",
        "\n",
        "    except Exception as e:\n",
        "        logger.error(f\"Error processing travel chat request: {e}\")\n",
        "        return \"Sorry, I encountered an error processing your request. Please try again.\"\n",
        "\n",
        "print(\"✅ Travel Planning Agent created successfully!\")\n"
      ]
    },
    {
      "cell_type": "markdown",
      "metadata": {
        "vscode": {
          "languageId": "raw"
        }
      },
      "source": [
        "### Test the A2A Communication\n",
        "\n",
        "Now let's test the Agent-to-Agent communication! We'll chat with the Travel Planning Agent, which will use the Flight Booking Agent when needed:\n"
      ]
    },
    {
      "cell_type": "code",
      "execution_count": null,
      "metadata": {},
      "outputs": [],
      "source": [
        "# Test 1: General travel question (should not trigger flight booking)\n",
        "print(\"🧪 Test 1: General travel question\")\n",
        "response = await chat_with_travel_agent(\n",
        "    \"What are some good travel destinations for summer?\",\n",
        "    \"demo_context\"\n",
        ")\n",
        "print(\"-\" * 50)\n",
        "print(\"Final Response\")\n",
        "print(\"-\" * 50)\n",
        "print(f\"Agent: {response}\")\n",
        "print(\"-\" * 50)"
      ]
    },
    {
      "cell_type": "code",
      "execution_count": null,
      "metadata": {},
      "outputs": [],
      "source": [
        "# Test 2: Flight booking request (should trigger A2A communication)\n",
        "print(\"🧪 Test 2: Flight booking request (A2A communication)\")\n",
        "response = await chat_with_travel_agent(\n",
        "    \"I need to book a flight from San Francisco to Tokyo on December 25th\",\n",
        "    \"demo_context\"\n",
        ")\n",
        "print(\"-\" * 50)\n",
        "print(\"Final Response\")\n",
        "print(\"-\" * 50)\n",
        "print(f\"Agent: {response}\")\n",
        "print(\"-\" * 50)"
      ]
    },
    {
      "cell_type": "code",
      "execution_count": null,
      "metadata": {},
      "outputs": [],
      "source": [
        "\n",
        "    # Test 3: Follow-up with more flight details (should continue A2A communication)\n",
        "print(\"🧪 Test 3: Follow-up with more flight details\")\n",
        "response = await chat_with_travel_agent(\n",
        "    \"Make it for 2 passengers, and I prefer business class\",\n",
        "    \"demo_context\"\n",
        ")\n",
        "print(\"-\" * 50)\n",
        "print(\"Final Response\")\n",
        "print(\"-\" * 50)\n",
        "print(f\"Agent: {response}\")\n",
        "print(\"-\" * 50)"
      ]
    },
    {
      "cell_type": "code",
      "execution_count": null,
      "metadata": {},
      "outputs": [],
      "source": [
        "print(\"🧪 Test 4: Mixed request (travel advice + flight booking)\")\n",
        "response = await chat_with_travel_agent(\n",
        "    \"What's the best time to visit Paris? Also, can you book me a flight there for next month?\",\n",
        "    \"demo_context2\"\n",
        ")\n",
        "print(\"-\" * 50)\n",
        "print(\"Final Response\")\n",
        "print(\"-\" * 50)\n",
        "print(f\"Agent: {response}\")\n",
        "print(\"-\" * 50)"
      ]
    },
    {
      "cell_type": "code",
      "execution_count": 32,
      "metadata": {},
      "outputs": [
        {
          "name": "stderr",
          "output_type": "stream",
          "text": [
            "2025-07-11 10:14:11,808 - __main__ - INFO - Received travel chat request: It's going to be just for myself, departing from Cairo on the 15th of November for 5 days and lets do Economy class with context ID: demo_context2\n"
          ]
        },
        {
          "name": "stdout",
          "output_type": "stream",
          "text": [
            "🧪 Test 5: Follow up to finalize the booking)\n"
          ]
        },
        {
          "name": "stderr",
          "output_type": "stream",
          "text": [
            "2025-07-11 10:14:12,659 - httpx - INFO - HTTP Request: POST https://aoai-sweden-gbb-dev.openai.azure.com/openai/deployments/gpt-4o/chat/completions?api-version=2025-03-01-preview \"HTTP/1.1 200 OK\"\n",
            "2025-07-11 10:14:12,661 - semantic_kernel.connectors.ai.open_ai.services.open_ai_handler - INFO - OpenAI usage: CompletionUsage(completion_tokens=45, prompt_tokens=1387, total_tokens=1432, completion_tokens_details=CompletionTokensDetails(accepted_prediction_tokens=0, audio_tokens=0, reasoning_tokens=0, rejected_prediction_tokens=0), prompt_tokens_details=PromptTokensDetails(audio_tokens=0, cached_tokens=0))\n",
            "2025-07-11 10:14:12,662 - semantic_kernel.connectors.ai.chat_completion_client_base - INFO - processing 1 tool calls in parallel.\n",
            "2025-07-11 10:14:12,662 - semantic_kernel.kernel - INFO - Calling FlightBookingTool-book_flight function with args: {\"user_input\":\"Book a flight from Cairo to Paris departing on November 15th for 5 days, Economy class, for one passenger.\"}\n",
            "2025-07-11 10:14:12,663 - semantic_kernel.functions.kernel_function - INFO - Function FlightBookingTool-book_flight invoking.\n",
            "2025-07-11 10:14:12,700 - httpx - INFO - HTTP Request: GET http://0.0.0.0:9999/.well-known/agent.json \"HTTP/1.1 200 OK\"\n",
            "2025-07-11 10:14:12,701 - a2a.client.client - INFO - Successfully fetched agent card data from http://0.0.0.0:9999/.well-known/agent.json: {'capabilities': {'streaming': True}, 'defaultInputModes': ['text'], 'defaultOutputModes': ['text'], 'description': 'An agent that helps users book flights using semantic kernel capabilities.', 'name': 'Semantic Kernel Flight Booking Agent', 'protocolVersion': '0.2.5', 'skills': [{'description': 'Assists users in booking flights based on their requests.', 'examples': ['Book a flight from New York to London next Monday.', 'I need a flight to Paris tomorrow morning.'], 'id': 'flight_booking', 'name': 'Flight Booking', 'tags': ['flight', 'booking', 'travel']}], 'supportsAuthenticatedExtendedCard': False, 'url': 'http://0.0.0.0:9999', 'version': '1.0.0'}\n",
            "2025-07-11 10:14:14,522 - httpx - INFO - HTTP Request: POST http://0.0.0.0:9999 \"HTTP/1.1 200 OK\"\n",
            "2025-07-11 10:14:14,524 - __main__ - INFO - Flight booking tool response: {'id': '4b03037e-87eb-47eb-a18e-d9bd1030376a', 'jsonrpc': '2.0', 'result': {'kind': 'message', 'messageId': '271d69af-467d-4aa1-9444-03a83a7df150', 'parts': [{'kind': 'text', 'text': \"Thank you for confirming the details. Here's a summary of your flight booking request:\\n\\n- **Departure City:** Cairo\\n- **Destination City:** Paris\\n- **Departure Date:** November 15th\\n- **Return Date:** November 20th (5-day trip)\\n- **Number of Passengers:** 1\\n- **Class of Service:** Economy Class\\n\\nI'll proceed with booking this flight for you. Please hold on for a moment.\\n\\n---\\n\\nYour flight from Cairo to Paris, departing on November 15th and returning on November 20th, for one passenger in Economy Class has been successfully confirmed!\\n\\nYou will receive additional details, including your itinerary and e-tickets, via email shortly. If there are any more questions or further assistance is needed, feel free to ask. Safe travels!\"}], 'role': 'agent'}}\n",
            "2025-07-11 10:14:14,525 - semantic_kernel.functions.kernel_function - INFO - Function FlightBookingTool-book_flight succeeded.\n",
            "2025-07-11 10:14:14,525 - semantic_kernel.functions.kernel_function - INFO - Function completed. Duration: 1.861729s\n",
            "2025-07-11 10:14:15,540 - httpx - INFO - HTTP Request: POST https://aoai-sweden-gbb-dev.openai.azure.com/openai/deployments/gpt-4o/chat/completions?api-version=2025-03-01-preview \"HTTP/1.1 200 OK\"\n",
            "2025-07-11 10:14:15,542 - semantic_kernel.connectors.ai.open_ai.services.open_ai_handler - INFO - OpenAI usage: CompletionUsage(completion_tokens=72, prompt_tokens=1603, total_tokens=1675, completion_tokens_details=CompletionTokensDetails(accepted_prediction_tokens=0, audio_tokens=0, reasoning_tokens=0, rejected_prediction_tokens=0), prompt_tokens_details=PromptTokensDetails(audio_tokens=0, cached_tokens=0))\n",
            "2025-07-11 10:14:15,543 - __main__ - INFO - Travel agent response: Your flight from Cairo to Paris, departing on November 15th and returning on November 20th, for one passenger in Economy Class has been successfully confirmed!\n",
            "\n",
            "You will receive additional details, including your itinerary and e-tickets, via email shortly. If there are any more questions or further assistance is needed, feel free to ask. Safe travels!\n"
          ]
        },
        {
          "name": "stdout",
          "output_type": "stream",
          "text": [
            "--------------------------------------------------\n",
            "Final Response\n",
            "--------------------------------------------------\n",
            "Agent: Your flight from Cairo to Paris, departing on November 15th and returning on November 20th, for one passenger in Economy Class has been successfully confirmed!\n",
            "\n",
            "You will receive additional details, including your itinerary and e-tickets, via email shortly. If there are any more questions or further assistance is needed, feel free to ask. Safe travels!\n",
            "--------------------------------------------------\n"
          ]
        }
      ],
      "source": [
        "print(\"🧪 Test 5: Follow up to finalize the booking)\")\n",
        "response = await chat_with_travel_agent(\n",
        "    \"It's going to be just for myself, departing from Cairo on the 15th of November for 5 days and lets do Economy class\",\n",
        "    \"demo_context2\"\n",
        ")\n",
        "print(\"-\" * 50)\n",
        "print(\"Final Response\")\n",
        "print(\"-\" * 50)\n",
        "print(f\"Agent: {response}\")\n",
        "print(\"-\" * 50)"
      ]
    },
    {
      "cell_type": "markdown",
      "metadata": {
        "vscode": {
          "languageId": "raw"
        }
      },
      "source": [
        "### Interactive Chat\n",
        "\n",
        "You can now interact with the Travel Planning Agent directly. Try asking about travel destinations, flight bookings, or any travel-related questions:\n"
      ]
    },
    {
      "cell_type": "code",
      "execution_count": 33,
      "metadata": {},
      "outputs": [
        {
          "name": "stdout",
          "output_type": "stream",
          "text": [
            "💡 Example interactions you can try:\n",
            "- 'What are the best beaches in Thailand?'\n",
            "- 'Book a flight from London to New York tomorrow'\n",
            "- 'What's the weather like in Tokyo in spring?'\n",
            "- 'I need a round-trip flight to Paris for 2 people'\n",
            "- 'Tell me about travel insurance options'\n",
            "\n",
            "💬 To start interactive chat, uncomment and run: await interactive_chat()\n"
          ]
        }
      ],
      "source": [
        "# Interactive Chat Function\n",
        "async def interactive_chat():\n",
        "    \"\"\"Interactive chat with the Travel Planning Agent.\"\"\"\n",
        "    print(\"💬 Starting interactive chat with Travel Planning Agent\")\n",
        "    print(\"Type 'exit' to end the conversation\")\n",
        "    print(\"-\" * 50)\n",
        "    \n",
        "    context_id = \"interactive_session\"\n",
        "    \n",
        "    while True:\n",
        "        try:\n",
        "            # In a real Jupyter environment, you might want to use input() or ipywidgets\n",
        "            user_input = input(\"You: \")\n",
        "            \n",
        "            if user_input.lower() in ['exit', 'quit', 'bye']:\n",
        "                print(\"👋 Thank you for chatting! Goodbye!\")\n",
        "                break\n",
        "                \n",
        "            if user_input.strip():\n",
        "                response = await chat_with_travel_agent(user_input, context_id)\n",
        "                print(f\"Travel Agent: {response}\")\n",
        "                print(\"-\" * 50)\n",
        "                \n",
        "        except KeyboardInterrupt:\n",
        "            print(\"\\n👋 Chat ended by user. Goodbye!\")\n",
        "            break\n",
        "        except Exception as e:\n",
        "            print(f\"❌ Error: {e}\")\n",
        "            print(\"-\" * 50)\n",
        "\n",
        "# Example usage (uncomment to run interactively)\n",
        "# await interactive_chat()\n",
        "\n",
        "# For demonstration, let's show some example interactions\n",
        "print(\"💡 Example interactions you can try:\")\n",
        "print(\"- 'What are the best beaches in Thailand?'\")\n",
        "print(\"- 'Book a flight from London to New York tomorrow'\")\n",
        "print(\"- 'What's the weather like in Tokyo in spring?'\")\n",
        "print(\"- 'I need a round-trip flight to Paris for 2 people'\")\n",
        "print(\"- 'Tell me about travel insurance options'\")\n",
        "print(\"\")\n",
        "print(\"💬 To start interactive chat, uncomment and run: await interactive_chat()\")\n"
      ]
    },
    {
      "cell_type": "markdown",
      "metadata": {
        "vscode": {
          "languageId": "raw"
        }
      },
      "source": [
        "## Summary and Key Concepts\n",
        "\n",
        "Congratulations! You've successfully implemented Agent-to-Agent (A2A) communication using Semantic Kernel. Here's what we accomplished:\n",
        "\n",
        "### 🎯 What We Built\n",
        "\n",
        "1. **Flight Booking Agent**: A specialized agent that handles flight bookings\n",
        "2. **A2A Server**: Exposes the flight booking agent via HTTP API\n",
        "3. **Travel Planning Agent**: A general travel agent that uses the flight booking agent as a tool\n",
        "4. **A2A Communication**: Seamless communication between agents\n",
        "\n",
        "### 🔑 Key Concepts Learned\n",
        "\n",
        "#### 1. **Agent Specialization**\n",
        "- Each agent has a specific purpose and set of capabilities\n",
        "- Specialization leads to better performance and maintainability\n",
        "- Agents can be developed and deployed independently\n",
        "\n",
        "#### 2. **A2A Protocol**\n",
        "- Standardized way for agents to communicate\n",
        "- Includes agent cards, skill definitions, and message formats\n",
        "- Enables discovery and invocation of agent capabilities\n",
        "\n",
        "#### 3. **Tool Integration**\n",
        "- Agents can use other agents as tools\n",
        "- Semantic Kernel's function calling mechanism works with A2A\n",
        "- Allows for complex workflows and orchestration\n",
        "\n",
        "#### 4. **Context Management**\n",
        "- Each agent maintains its own conversation context\n",
        "- Context IDs ensure proper conversation tracking\n",
        "- Enables stateful interactions across agent boundaries\n",
        "\n",
        "### 🏗️ Architecture Benefits\n",
        "\n",
        "1. **Modularity**: Each agent can be developed, tested, and deployed separately\n",
        "2. **Scalability**: Agents can be scaled independently based on demand\n",
        "3. **Reusability**: Specialized agents can be used by multiple orchestrators\n",
        "4. **Maintainability**: Clear separation of concerns makes code easier to maintain\n",
        "\n",
        "### 🚀 Next Steps\n",
        "\n",
        "To extend this implementation, you could:\n",
        "\n",
        "1. **Add More Specialized Agents**: Hotel booking, car rental, restaurant recommendations\n",
        "2. **Implement Authentication**: Add security to agent communications\n",
        "3. **Add Monitoring**: Track agent performance and usage metrics\n",
        "4. **Deploy to Production**: Use container orchestration for scalability\n",
        "5. **Add More Tools**: Integrate with real booking APIs and services\n",
        "\n",
        "### 💡 Best Practices\n",
        "\n",
        "1. **Design for Single Responsibility**: Each agent should have a clear, focused purpose\n",
        "2. **Use Descriptive Agent Cards**: Help other agents understand capabilities\n",
        "3. **Implement Error Handling**: Handle network failures and agent unavailability\n",
        "4. **Monitor Agent Health**: Ensure agents are responsive and functioning correctly\n",
        "5. **Version Your Agents**: Use semantic versioning for agent APIs\n",
        "\n",
        "This tutorial demonstrates the power of agent-to-agent communication in creating sophisticated, distributed AI systems. The modular approach allows for building complex workflows while maintaining clean, maintainable code.\"\n"
      ]
    },
    {
      "cell_type": "markdown",
      "metadata": {
        "vscode": {
          "languageId": "raw"
        }
      },
      "source": [
        "## Optional: Cleanup\n",
        "\n",
        "If you want to stop the A2A server that's running in the background, you can run the following code:\n"
      ]
    },
    {
      "cell_type": "code",
      "execution_count": null,
      "metadata": {},
      "outputs": [],
      "source": [
        "# Optional: Cleanup\n",
        "# Note: The server thread is running as a daemon thread, so it will automatically\n",
        "# terminate when the main Python process ends. If you want to explicitly check\n",
        "# if the server is still running, you can use:\n",
        "\n",
        "if server_thread.is_alive():\n",
        "    print(\"✅ A2A Server is still running in the background\")\n",
        "    print(\"🔧 The server will automatically stop when the notebook kernel is restarted\")\n",
        "else:\n",
        "    print(\"❌ A2A Server thread has stopped\")\n",
        "\n",
        "# You can also check the server status again\n",
        "print(\"\\n🔍 Final server status check:\")\n",
        "await check_server_status()\n",
        "\n",
        "print(\"\\n🎉 Tutorial completed successfully!\")\n",
        "print(\"💡 Remember: The A2A server runs as a daemon thread and will stop automatically when the notebook kernel is restarted.\")\n"
      ]
    },
    {
      "cell_type": "markdown",
      "metadata": {
        "vscode": {
          "languageId": "raw"
        }
      },
      "source": [
        "## Running the Standalone Agent Files\n",
        "\n",
        "This tutorial includes standalone implementations of both agents that can be run independently:\n",
        "\n",
        "### Flight Booking Agent Server\n",
        "The flight booking agent is available as a standalone server in the `flight-booking-agent/` directory:\n",
        "\n",
        "```bash\n",
        "cd flight-booking-agent/\n",
        "uv run server.py\n",
        "```\n",
        "\n",
        "This will start the A2A server on `http://localhost:9999` with the flight booking agent.\n",
        "\n",
        "### Travel Booking Agent\n",
        "The travel booking agent with a web interface is available in the `travel-booking-agent/` directory:\n",
        "\n",
        "```bash\n",
        "cd travel-booking-agent/\n",
        "uv run agent.py\n",
        "```\n",
        "\n",
        "This will start a local web server where you can interact with the travel planning agent through a browser interface."
      ]
    },
    {
      "cell_type": "markdown",
      "metadata": {},
      "source": []
    }
  ],
  "metadata": {
    "kernelspec": {
      "display_name": ".venv",
      "language": "python",
      "name": "python3"
    },
    "language_info": {
      "codemirror_mode": {
        "name": "ipython",
        "version": 3
      },
      "file_extension": ".py",
      "mimetype": "text/x-python",
      "name": "python",
      "nbconvert_exporter": "python",
      "pygments_lexer": "ipython3",
      "version": "3.12.0"
    }
  },
  "nbformat": 4,
  "nbformat_minor": 2
}
