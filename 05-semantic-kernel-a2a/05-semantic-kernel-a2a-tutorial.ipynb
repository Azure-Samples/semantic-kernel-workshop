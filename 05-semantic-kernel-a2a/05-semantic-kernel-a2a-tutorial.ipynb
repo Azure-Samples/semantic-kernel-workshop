{
  "cells": [
    {
      "cell_type": "markdown",
      "metadata": {
        "vscode": {
          "languageId": "raw"
        }
      },
      "source": [
        "# Semantic Kernel  & Agent-to-Agent (A2A) Protocol\n",
        "\n",
        "This notebook demonstrates how to implement Agent-to-Agent (A2A) communication using Semantic Kernel. We'll create two agents:\n",
        "\n",
        "1. **Flight Booking Agent** - A specialized agent that handles flight bookings\n",
        "2. **Travel Planning Agent** - A general travel agent that uses the flight booking agent as a tool\n",
        "\n",
        "## What does Agent-to-Agent (A2A) Protocol offer?\n",
        "\n",
        "A2A Protocol allows different AI agents to work together by calling each other's services. This creates a distributed system where:\n",
        "\n",
        "- Each agent can specialize in specific tasks\n",
        "- Agents can leverage other agents' capabilities\n",
        "- The system becomes more modular and scalable\n",
        "\n",
        "## Architecture Overview\n",
        "\n",
        "```\n",
        "User Request → Travel Planning Agent → Flight Booking Agent → Response\n",
        "```\n",
        "\n",
        "The Travel Planning Agent acts as an orchestrator that can handle various travel-related tasks, and when it needs to book flights, it communicates with the specialized Flight Booking Agent through the A2A protocol.\n"
      ]
    },
    {
      "cell_type": "markdown",
      "metadata": {
        "vscode": {
          "languageId": "raw"
        }
      },
      "source": [
        "## Prerequisites and Setup\n",
        "\n",
        "First, let's install the required dependencies and set up our environment.\n"
      ]
    },
    {
      "cell_type": "code",
      "execution_count": 8,
      "metadata": {
        "vscode": {
          "languageId": "shellscript"
        }
      },
      "outputs": [],
      "source": [
        "# Install required packages\n",
        "# If you already did the uv configuration, you can skip this step\n",
        "#%pip install semantic-kernel python-dotenv fastapi uvicorn httpx a2a-sdk"
      ]
    },
    {
      "cell_type": "code",
      "execution_count": 9,
      "metadata": {},
      "outputs": [
        {
          "name": "stdout",
          "output_type": "stream",
          "text": [
            "✅ Dependencies installed and environment configured!\n"
          ]
        }
      ],
      "source": [
        "# Import necessary libraries\n",
        "import os\n",
        "import logging\n",
        "import threading\n",
        "from uuid import uuid4\n",
        "from typing import Dict, Any\n",
        "\n",
        "# Third-party imports\n",
        "import httpx\n",
        "import uvicorn\n",
        "from dotenv import load_dotenv\n",
        "\n",
        "# Configure logging\n",
        "logging.basicConfig(\n",
        "    level=logging.INFO,\n",
        "    format='%(asctime)s - %(name)s - %(levelname)s - %(message)s'\n",
        ")\n",
        "logger = logging.getLogger(__name__)\n",
        "\n",
        "# Load environment variables\n",
        "load_dotenv('../.env')\n",
        "\n",
        "print(\"✅ Dependencies installed and environment configured!\")\n"
      ]
    },
    {
      "cell_type": "code",
      "execution_count": 10,
      "metadata": {},
      "outputs": [
        {
          "name": "stdout",
          "output_type": "stream",
          "text": [
            "✅ AZURE_OPENAI_API_KEY is set\n",
            "✅ AZURE_OPENAI_ENDPOINT is set\n",
            "✅ AZURE_OPENAI_API_VERSION is set\n",
            "✅ AZURE_OPENAI_CHAT_DEPLOYMENT_NAME is set\n"
          ]
        }
      ],
      "source": [
        "# Verify environment variables\n",
        "required_vars = [\n",
        "    'AZURE_OPENAI_API_KEY',\n",
        "    'AZURE_OPENAI_ENDPOINT',\n",
        "    'AZURE_OPENAI_API_VERSION',\n",
        "    'AZURE_OPENAI_CHAT_DEPLOYMENT_NAME'\n",
        "]\n",
        "\n",
        "for var in required_vars:\n",
        "    if os.getenv(var):\n",
        "        print(f\"✅ {var} is set\")\n",
        "    else:\n",
        "        print(f\"❌ {var} is not set\")\n",
        "\n",
        "# Set A2A server URL if not already set\n",
        "if not os.getenv('A2A_SERVER_URL'):\n",
        "    os.environ['A2A_SERVER_URL'] = 'http://localhost:9999'\n",
        "    print(\"🔧 A2A_SERVER_URL set to default: http://localhost:9999\")\n"
      ]
    },
    {
      "cell_type": "markdown",
      "metadata": {
        "vscode": {
          "languageId": "raw"
        }
      },
      "source": [
        "## Part 1: Flight Booking Agent Implementation\n",
        "\n",
        "The Flight Booking Agent is a specialized agent that handles flight booking requests. It understands user requests and maintain conversation context.\n",
        "\n",
        "### Key Features:\n",
        "- Specialized in flight booking tasks\n",
        "- Maintains conversation context per user\n",
        "- Provides booking confirmation summaries\n"
      ]
    },
    {
      "cell_type": "code",
      "execution_count": 13,
      "metadata": {},
      "outputs": [
        {
          "name": "stderr",
          "output_type": "stream",
          "text": [
            "2025-07-11 09:48:16,727 - __main__ - INFO - Initializing SemanticKernelFlightBookingAgent.\n",
            "2025-07-11 09:48:16,754 - __main__ - INFO - SemanticKernelFlightBookingAgent initialized successfully.\n"
          ]
        },
        {
          "name": "stdout",
          "output_type": "stream",
          "text": [
            "✅ Flight Booking Agent created successfully!\n"
          ]
        }
      ],
      "source": [
        "# Import Semantic Kernel components\n",
        "from semantic_kernel.agents.chat_completion.chat_completion_agent import ChatCompletionAgent, ChatHistoryAgentThread\n",
        "from semantic_kernel.connectors.ai.open_ai import AzureChatCompletion\n",
        "from semantic_kernel.contents.chat_message_content import ChatMessageContent\n",
        "from semantic_kernel.contents.chat_history import ChatHistory\n",
        "\n",
        "class SemanticKernelFlightBookingAgent:\n",
        "    \"\"\"A flight booking agent using Semantic Kernel and Azure OpenAI.\"\"\"\n",
        "\n",
        "    def __init__(self):\n",
        "        \"\"\"Initialize the flight booking agent with Azure OpenAI service.\"\"\"\n",
        "        logger.info(\"Initializing SemanticKernelFlightBookingAgent.\")\n",
        "\n",
        "        self.chat_agent = ChatCompletionAgent(\n",
        "            service=AzureChatCompletion(),\n",
        "            name=\"FlightBookingAssistant\",\n",
        "            instructions=(\n",
        "                \"You are a helpful flight booking assistant. \"\n",
        "                \"Your task is to help users book flights by gathering necessary information \"\n",
        "                \"such as departure city, destination city, travel dates, number of passengers, \"\n",
        "                \"and preferred class of service. Once you have all the required information, \"\n",
        "                \"provide a confirmation summary and simulate a successful booking.\"\n",
        "            )\n",
        "        )\n",
        "\n",
        "        # Store chat history per context to maintain conversation state\n",
        "        self.history_store: dict[str, ChatHistory] = {}\n",
        "\n",
        "        logger.info(\"SemanticKernelFlightBookingAgent initialized successfully.\")\n",
        "\n",
        "    def _get_or_create_chat_history(self, context_id: str) -> ChatHistory:\n",
        "        \"\"\"Get existing chat history or create a new one for the given context.\"\"\"\n",
        "        chat_history = self.history_store.get(context_id)\n",
        "\n",
        "        if chat_history is None:\n",
        "            chat_history = ChatHistory(\n",
        "                messages=[],\n",
        "                system_message=(\n",
        "                    \"You are a helpful flight booking assistant. \"\n",
        "                    \"Help users book flights by gathering all necessary information: \"\n",
        "                    \"departure city, destination city, travel dates, number of passengers, \"\n",
        "                    \"and preferred class. Once you have complete information, \"\n",
        "                    \"provide a booking confirmation summary.\"\n",
        "                )\n",
        "            )\n",
        "            self.history_store[context_id] = chat_history\n",
        "            logger.info(f\"Created new ChatHistory for context ID: {context_id}\")\n",
        "\n",
        "        return chat_history\n",
        "\n",
        "    async def chat(self, user_input: str, context_id: str) -> str:\n",
        "        \"\"\"\n",
        "        Process a flight booking request from the user.\n",
        "\n",
        "        Args:\n",
        "            user_input: The user's request for flight booking\n",
        "            context_id: The context ID for maintaining conversation state\n",
        "\n",
        "        Returns:\n",
        "            The response from the flight booking agent\n",
        "        \"\"\"\n",
        "        logger.info(f\"Received flight booking request: {user_input} with context ID: {context_id}\")\n",
        "\n",
        "        if not user_input or not user_input.strip():\n",
        "            logger.error(\"User input is empty.\")\n",
        "            raise ValueError(\"User input cannot be empty.\")\n",
        "\n",
        "        try:\n",
        "            # Get or create chat history for the context\n",
        "            chat_history = self._get_or_create_chat_history(context_id)\n",
        "\n",
        "            # Add user input to chat history\n",
        "            chat_history.messages.append(\n",
        "                ChatMessageContent(role=\"user\", content=user_input))\n",
        "\n",
        "            # Create a new thread from the chat history\n",
        "            thread = ChatHistoryAgentThread(\n",
        "                chat_history=chat_history, thread_id=str(uuid4()))\n",
        "\n",
        "            # Get response from the agent\n",
        "            response = await self.chat_agent.get_response(message=user_input, thread=thread)\n",
        "\n",
        "            # Add assistant response to chat history\n",
        "            chat_history.messages.append(ChatMessageContent(\n",
        "                role=\"assistant\", content=response.content.content))\n",
        "\n",
        "\n",
        "            logger.info(f\"Chat history length is {len(chat_history.messages)} messages for context ID: {context_id}\")\n",
        "            logger.info(f\"Flight booking agent response: {response.content.content}\")\n",
        "\n",
        "            return response.content.content\n",
        "\n",
        "        except Exception as e:\n",
        "            logger.error(f\"Error processing flight booking request: {e}\")\n",
        "            return f\"I apologize, but I encountered an error while processing your flight booking request: {str(e)}\"\n",
        "\n",
        "# Create an instance of the flight booking agent\n",
        "flight_booking_agent = SemanticKernelFlightBookingAgent()\n",
        "print(\"✅ Flight Booking Agent created successfully!\")\n"
      ]
    },
    {
      "cell_type": "markdown",
      "metadata": {
        "vscode": {
          "languageId": "raw"
        }
      },
      "source": [
        "### Test the Flight Booking Agent\n",
        "\n",
        "Let's test our flight booking agent directly to see how it works:\n"
      ]
    },
    {
      "cell_type": "code",
      "execution_count": 14,
      "metadata": {},
      "outputs": [
        {
          "name": "stderr",
          "output_type": "stream",
          "text": [
            "2025-07-11 09:48:19,198 - __main__ - INFO - Received flight booking request: I want to book a flight from New York to London on July 15th with context ID: test_context_1\n",
            "2025-07-11 09:48:19,198 - __main__ - INFO - Created new ChatHistory for context ID: test_context_1\n",
            "2025-07-11 09:48:20,635 - httpx - INFO - HTTP Request: POST https://aoai-sweden-gbb-dev.openai.azure.com/openai/deployments/gpt-4o/chat/completions?api-version=2025-03-01-preview \"HTTP/1.1 200 OK\"\n",
            "2025-07-11 09:48:20,637 - semantic_kernel.connectors.ai.open_ai.services.open_ai_handler - INFO - OpenAI usage: CompletionUsage(completion_tokens=90, prompt_tokens=141, total_tokens=231, completion_tokens_details=CompletionTokensDetails(accepted_prediction_tokens=0, audio_tokens=0, reasoning_tokens=0, rejected_prediction_tokens=0), prompt_tokens_details=PromptTokensDetails(audio_tokens=0, cached_tokens=0))\n",
            "2025-07-11 09:48:20,638 - __main__ - INFO - Chat history length is 4 messages for context ID: test_context_1\n",
            "2025-07-11 09:48:20,639 - __main__ - INFO - Flight booking agent response: Great! Let's gather all the necessary information for your flight booking. \n",
            "\n",
            "1. **Departure City:** New York\n",
            "2. **Destination City:** London\n",
            "3. **Travel Date:** July 15th\n",
            "\n",
            "Could you please provide the following additional details:\n",
            "\n",
            "4. **Number of Passengers:**\n",
            "5. **Preferred Class of Service (Economy, Business, First):**\n",
            "\n",
            "Once I have this information, I'll provide a booking confirmation summary.\n"
          ]
        },
        {
          "name": "stdout",
          "output_type": "stream",
          "text": [
            "--------------------------------------------------\n",
            "Final Response\n",
            "--------------------------------------------------\n",
            "Agent: Great! Let's gather all the necessary information for your flight booking. \n",
            "\n",
            "1. **Departure City:** New York\n",
            "2. **Destination City:** London\n",
            "3. **Travel Date:** July 15th\n",
            "\n",
            "Could you please provide the following additional details:\n",
            "\n",
            "4. **Number of Passengers:**\n",
            "5. **Preferred Class of Service (Economy, Business, First):**\n",
            "\n",
            "Once I have this information, I'll provide a booking confirmation summary.\n",
            "--------------------------------------------------\n"
          ]
        }
      ],
      "source": [
        "response = await flight_booking_agent.chat(  \n",
        "    user_input=\"I want to book a flight from New York to London on July 15th\", \n",
        "    context_id=\"test_context_1\"\n",
        ")\n",
        "print(\"-\" * 50)\n",
        "print(\"Final Response\")\n",
        "print(\"-\" * 50)\n",
        "print(f\"Agent: {response}\")\n",
        "print(\"-\" * 50)"
      ]
    },
    {
      "cell_type": "code",
      "execution_count": null,
      "metadata": {},
      "outputs": [
        {
          "name": "stderr",
          "output_type": "stream",
          "text": [
            "2025-07-11 09:43:26,077 - __main__ - INFO - Received flight booking request: I need it for 2 passengers, business class with context ID: test_context_1\n",
            "2025-07-11 09:43:27,223 - httpx - INFO - HTTP Request: POST https://aoai-sweden-gbb-dev.openai.azure.com/openai/deployments/gpt-4o/chat/completions?api-version=2025-03-01-preview \"HTTP/1.1 200 OK\"\n",
            "2025-07-11 09:43:27,224 - semantic_kernel.connectors.ai.open_ai.services.open_ai_handler - INFO - OpenAI usage: CompletionUsage(completion_tokens=76, prompt_tokens=313, total_tokens=389, completion_tokens_details=CompletionTokensDetails(accepted_prediction_tokens=0, audio_tokens=0, reasoning_tokens=0, rejected_prediction_tokens=0), prompt_tokens_details=PromptTokensDetails(audio_tokens=0, cached_tokens=0))\n",
            "2025-07-11 09:43:27,224 - __main__ - INFO - Chat history length is 7 messages for context ID: test_context_1\n",
            "2025-07-11 09:43:27,224 - __main__ - INFO - Flight booking agent response: Thank you for providing the information! Let's summarize your booking details:\n",
            "\n",
            "- **Departure City:** New York\n",
            "- **Destination City:** London\n",
            "- **Travel Date:** July 15th\n",
            "- **Number of Passengers:** 2\n",
            "- **Preferred Class of Service:** Business Class\n",
            "\n",
            "Please confirm if all the details are correct, and I will proceed with the booking!\n"
          ]
        },
        {
          "name": "stdout",
          "output_type": "stream",
          "text": [
            "--------------------------------------------------\n",
            "Final Response\n",
            "--------------------------------------------------\n",
            "Agent: Thank you for providing the information! Let's summarize your booking details:\n",
            "\n",
            "- **Departure City:** New York\n",
            "- **Destination City:** London\n",
            "- **Travel Date:** July 15th\n",
            "- **Number of Passengers:** 2\n",
            "- **Preferred Class of Service:** Business Class\n",
            "\n",
            "Please confirm if all the details are correct, and I will proceed with the booking!\n",
            "--------------------------------------------------\n"
          ]
        }
      ],
      "source": [
        "response = await flight_booking_agent.chat(\n",
        "    user_input=\"I need it for 2 passengers, business class\", \n",
        "    context_id=\"test_context_1\"\n",
        ")\n",
        "print(\"-\" * 50)\n",
        "print(\"Final Response\")\n",
        "print(\"-\" * 50)\n",
        "print(f\"Agent: {response}\")\n",
        "print(\"-\" * 50)"
      ]
    },
    {
      "cell_type": "code",
      "execution_count": 15,
      "metadata": {},
      "outputs": [
        {
          "name": "stderr",
          "output_type": "stream",
          "text": [
            "2025-07-11 09:48:24,841 - __main__ - INFO - Received flight booking request: Book a flight to Paris tomorrow with context ID: test_context_2\n",
            "2025-07-11 09:48:24,842 - __main__ - INFO - Created new ChatHistory for context ID: test_context_2\n",
            "2025-07-11 09:48:25,836 - httpx - INFO - HTTP Request: POST https://aoai-sweden-gbb-dev.openai.azure.com/openai/deployments/gpt-4o/chat/completions?api-version=2025-03-01-preview \"HTTP/1.1 200 OK\"\n",
            "2025-07-11 09:48:25,839 - semantic_kernel.connectors.ai.open_ai.services.open_ai_handler - INFO - OpenAI usage: CompletionUsage(completion_tokens=93, prompt_tokens=131, total_tokens=224, completion_tokens_details=CompletionTokensDetails(accepted_prediction_tokens=0, audio_tokens=0, reasoning_tokens=0, rejected_prediction_tokens=0), prompt_tokens_details=PromptTokensDetails(audio_tokens=0, cached_tokens=0))\n",
            "2025-07-11 09:48:25,841 - __main__ - INFO - Chat history length is 4 messages for context ID: test_context_2\n",
            "2025-07-11 09:48:25,841 - __main__ - INFO - Flight booking agent response: To help you book a flight to Paris, I need to gather a few more details:\n",
            "\n",
            "1. **Departure City**: Where will you be departing from?\n",
            "2. **Return Date**: When would you like to return?\n",
            "3. **Number of Passengers**: How many people will be traveling?\n",
            "4. **Preferred Class**: Do you prefer economy, business, or first class?\n",
            "\n",
            "Please provide the details so I can proceed with your booking.\n"
          ]
        },
        {
          "name": "stdout",
          "output_type": "stream",
          "text": [
            "--------------------------------------------------\n",
            "Final Response\n",
            "--------------------------------------------------\n",
            "Agent: To help you book a flight to Paris, I need to gather a few more details:\n",
            "\n",
            "1. **Departure City**: Where will you be departing from?\n",
            "2. **Return Date**: When would you like to return?\n",
            "3. **Number of Passengers**: How many people will be traveling?\n",
            "4. **Preferred Class**: Do you prefer economy, business, or first class?\n",
            "\n",
            "Please provide the details so I can proceed with your booking.\n",
            "--------------------------------------------------\n"
          ]
        }
      ],
      "source": [
        "response = await flight_booking_agent.chat(\n",
        "        \"Book a flight to Paris tomorrow\", \n",
        "        \"test_context_2\"\n",
        "    )\n",
        "print(\"-\" * 50)\n",
        "print(\"Final Response\")\n",
        "print(\"-\" * 50)\n",
        "print(f\"Agent: {response}\")\n",
        "print(\"-\" * 50)"
      ]
    },
    {
      "cell_type": "markdown",
      "metadata": {
        "vscode": {
          "languageId": "raw"
        }
      },
      "source": [
        "## Part 2: A2A Server Components\n",
        "\n",
        "To enable Agent-to-Agent communication, we need to create server components that expose our flight booking agent through the A2A protocol. This involves:\n",
        "\n",
        "1. **Agent Executor**: Handles A2A protocol integration\n",
        "2. **Agent Card**: Describes the agent's capabilities\n",
        "3. **A2A Server**: Exposes the agent via HTTP API\n",
        "\n",
        "### Agent Executor\n",
        "\n",
        "The Agent Executor bridges our flight booking agent with the A2A protocol:\n"
      ]
    },
    {
      "cell_type": "code",
      "execution_count": 16,
      "metadata": {},
      "outputs": [
        {
          "name": "stdout",
          "output_type": "stream",
          "text": [
            "✅ Agent Executor created successfully!\n"
          ]
        }
      ],
      "source": [
        "# Import A2A SDK components\n",
        "from a2a.server.agent_execution import AgentExecutor, RequestContext\n",
        "from a2a.server.events import EventQueue\n",
        "from a2a.utils import new_agent_text_message, new_task\n",
        "\n",
        "class SemanticKernelFlightBookingAgentExecutor(AgentExecutor):\n",
        "    \"\"\"Executor for SemanticKernelFlightBookingAgent that handles A2A protocol integration.\"\"\"\n",
        "\n",
        "    def __init__(self):\n",
        "        \"\"\"Initialize the executor with a flight booking agent instance.\"\"\"\n",
        "        logger.info(\"Initializing SemanticKernelFlightBookingAgentExecutor.\")\n",
        "        self.agent = SemanticKernelFlightBookingAgent()\n",
        "        logger.info(\"SemanticKernelFlightBookingAgentExecutor initialized successfully.\")\n",
        "\n",
        "    async def execute(\n",
        "        self,\n",
        "        context: RequestContext,\n",
        "        event_queue: EventQueue,\n",
        "    ) -> None:\n",
        "        \"\"\"\n",
        "        Execute a flight booking request.\n",
        "\n",
        "        Args:\n",
        "            context: The request context containing user input and task information\n",
        "            event_queue: Queue for sending events and responses\n",
        "        \"\"\"\n",
        "        user_input = context.get_user_input()\n",
        "        task = context.current_task\n",
        "        context_id = context.context_id\n",
        "\n",
        "        # Create a new task if one doesn't exist\n",
        "        if not task:\n",
        "            task = new_task(context.message)\n",
        "            await event_queue.enqueue_event(task)\n",
        "\n",
        "        logger.info(f\"Executing flight booking - User input: {user_input}, Task ID: {task.id}, Context ID: {context_id}\")\n",
        "\n",
        "        try:\n",
        "            # Process the flight booking request\n",
        "            result = await self.agent.chat(user_input, context_id)\n",
        "\n",
        "            # Send the result back through the event queue\n",
        "            await event_queue.enqueue_event(new_agent_text_message(result))\n",
        "\n",
        "            logger.info(\"Flight booking executed successfully.\")\n",
        "\n",
        "        except ValueError as ve:\n",
        "            logger.error(f\"Validation error during flight booking: {ve}\")\n",
        "            await event_queue.enqueue_event(\n",
        "                new_agent_text_message(f\"I need more information to help you book a flight: {str(ve)}\")\n",
        "            )\n",
        "\n",
        "        except Exception as e:\n",
        "            logger.error(f\"Unexpected error during flight booking execution: {e}\")\n",
        "            await event_queue.enqueue_event(\n",
        "                new_agent_text_message(\n",
        "                    \"I apologize, but I encountered an error while processing your flight booking request. \"\n",
        "                    \"Please try again or contact support if the issue persists.\"\n",
        "                )\n",
        "            )\n",
        "\n",
        "    async def cancel(\n",
        "        self,\n",
        "        context: RequestContext,\n",
        "        event_queue: EventQueue\n",
        "    ) -> None:\n",
        "        \"\"\"\n",
        "        Handle cancellation requests.\n",
        "\n",
        "        Args:\n",
        "            context: The request context\n",
        "            event_queue: Queue for sending events\n",
        "        \"\"\"\n",
        "        logger.warning(\"Cancel operation requested but not supported for flight booking agent.\")\n",
        "        raise Exception('Cancel operation not supported for flight booking operations.')\n",
        "\n",
        "print(\"✅ Agent Executor created successfully!\")\n"
      ]
    },
    {
      "cell_type": "markdown",
      "metadata": {
        "vscode": {
          "languageId": "raw"
        }
      },
      "source": [
        "### A2A Server Configuration\n",
        "\n",
        "Now we'll create the A2A server that exposes our flight booking agent. This includes:\n",
        "\n",
        "1. **Agent Card**: Describes the agent's capabilities and skills\n",
        "2. **Server Application**: Handles HTTP requests and routes them to our agent\n"
      ]
    },
    {
      "cell_type": "code",
      "execution_count": 17,
      "metadata": {},
      "outputs": [
        {
          "name": "stdout",
          "output_type": "stream",
          "text": [
            "✅ A2A Server configuration created successfully!\n"
          ]
        }
      ],
      "source": [
        "# Import A2A server components\n",
        "from a2a.server.apps import A2AStarletteApplication\n",
        "from a2a.server.request_handlers import DefaultRequestHandler\n",
        "from a2a.server.tasks import InMemoryTaskStore\n",
        "from a2a.types import (\n",
        "    AgentCapabilities,\n",
        "    AgentCard,\n",
        "    AgentSkill,\n",
        ")\n",
        "\n",
        "# Server configuration\n",
        "SERVER_HOST = \"0.0.0.0\"\n",
        "SERVER_PORT = 9999\n",
        "\n",
        "def create_flight_booking_skill() -> AgentSkill:\n",
        "    \"\"\"Create and return the flight booking skill configuration.\"\"\"\n",
        "    return AgentSkill(\n",
        "        id='flight_booking',\n",
        "        name='Flight Booking',\n",
        "        description='Assists users in booking flights based on their requests.',\n",
        "        tags=['flight', 'booking', 'travel'],\n",
        "        examples=[\n",
        "            'Book a flight from New York to London next Monday.',\n",
        "            'I need a flight to Paris tomorrow morning.',\n",
        "        ],\n",
        "    )\n",
        "\n",
        "def create_agent_card() -> AgentCard:\n",
        "    \"\"\"Create and return the agent card configuration.\"\"\"\n",
        "    return AgentCard(\n",
        "        name='Semantic Kernel Flight Booking Agent',\n",
        "        description='An agent that helps users book flights using semantic kernel capabilities.',\n",
        "        capabilities=AgentCapabilities(streaming=True),\n",
        "        url=os.environ.get('A2A_SERVER_URL'),\n",
        "        version='1.0.0',\n",
        "        defaultInputModes=['text'],\n",
        "        defaultOutputModes=['text'],\n",
        "        skills=[create_flight_booking_skill()],\n",
        "        supportsAuthenticatedExtendedCard=False,\n",
        "    )\n",
        "\n",
        "def create_flight_booking_server() -> A2AStarletteApplication:\n",
        "    \"\"\"Create and configure the A2A server application.\"\"\"\n",
        "    # Initialize request handler with the flight booking agent executor\n",
        "    request_handler = DefaultRequestHandler(\n",
        "        agent_executor=SemanticKernelFlightBookingAgentExecutor(),\n",
        "        task_store=InMemoryTaskStore(),\n",
        "    )\n",
        "\n",
        "    # Create and return the server application\n",
        "    return A2AStarletteApplication(\n",
        "        agent_card=create_agent_card(),\n",
        "        http_handler=request_handler,\n",
        "    )\n",
        "\n",
        "print(\"✅ A2A Server configuration created successfully!\")\n"
      ]
    },
    {
      "cell_type": "markdown",
      "metadata": {
        "vscode": {
          "languageId": "raw"
        }
      },
      "source": [
        "### Start the Flight Booking A2A Server\n",
        "\n",
        "Now let's start the A2A server that will expose our flight booking agent. This server will run in the background so it doesn't block the rest of our notebook:\n"
      ]
    },
    {
      "cell_type": "code",
      "execution_count": null,
      "metadata": {},
      "outputs": [
        {
          "name": "stderr",
          "output_type": "stream",
          "text": [
            "2025-07-11 09:49:19,684 - __main__ - INFO - Initializing SemanticKernelFlightBookingAgentExecutor.\n",
            "2025-07-11 09:49:19,686 - __main__ - INFO - Initializing SemanticKernelFlightBookingAgent.\n"
          ]
        },
        {
          "name": "stderr",
          "output_type": "stream",
          "text": [
            "2025-07-11 09:49:19,714 - __main__ - INFO - SemanticKernelFlightBookingAgent initialized successfully.\n",
            "2025-07-11 09:49:19,714 - __main__ - INFO - SemanticKernelFlightBookingAgentExecutor initialized successfully.\n",
            "INFO:     Started server process [61342]\n",
            "INFO:     Waiting for application startup.\n",
            "INFO:     Application startup complete.\n",
            "INFO:     Uvicorn running on http://0.0.0.0:9999 (Press CTRL+C to quit)\n"
          ]
        },
        {
          "name": "stdout",
          "output_type": "stream",
          "text": [
            "INFO:     127.0.0.1:59362 - \"GET /.well-known/agent.json HTTP/1.1\" 200 OK\n",
            "INFO:     127.0.0.1:59377 - \"GET /.well-known/agent.json HTTP/1.1\" 200 OK\n"
          ]
        },
        {
          "name": "stderr",
          "output_type": "stream",
          "text": [
            "2025-07-11 09:49:42,225 - __main__ - INFO - Executing flight booking - User input: Book a flight from San Francisco to Tokyo on December 25th., Task ID: 13b0197b-3aeb-457c-8b1a-5ec14cae8f23, Context ID: travel_booking_context\n",
            "2025-07-11 09:49:42,225 - __main__ - INFO - Received flight booking request: Book a flight from San Francisco to Tokyo on December 25th. with context ID: travel_booking_context\n",
            "2025-07-11 09:49:42,226 - __main__ - INFO - Created new ChatHistory for context ID: travel_booking_context\n",
            "2025-07-11 09:49:42,984 - httpx - INFO - HTTP Request: POST https://aoai-sweden-gbb-dev.openai.azure.com/openai/deployments/gpt-4o/chat/completions?api-version=2025-03-01-preview \"HTTP/1.1 200 OK\"\n",
            "2025-07-11 09:49:42,987 - semantic_kernel.connectors.ai.open_ai.services.open_ai_handler - INFO - OpenAI usage: CompletionUsage(completion_tokens=47, prompt_tokens=139, total_tokens=186, completion_tokens_details=CompletionTokensDetails(accepted_prediction_tokens=0, audio_tokens=0, reasoning_tokens=0, rejected_prediction_tokens=0), prompt_tokens_details=PromptTokensDetails(audio_tokens=0, cached_tokens=0))\n",
            "2025-07-11 09:49:42,988 - __main__ - INFO - Chat history length is 4 messages for context ID: travel_booking_context\n",
            "2025-07-11 09:49:42,989 - __main__ - INFO - Flight booking agent response: Great! I can help you with that. Could you please provide a bit more information?\n",
            "\n",
            "1. How many passengers will be traveling?\n",
            "2. What class of service do you prefer (Economy, Business, or First Class)?\n",
            "2025-07-11 09:49:42,989 - __main__ - INFO - Flight booking executed successfully.\n"
          ]
        },
        {
          "name": "stdout",
          "output_type": "stream",
          "text": [
            "INFO:     127.0.0.1:59377 - \"POST / HTTP/1.1\" 200 OK\n",
            "INFO:     127.0.0.1:59381 - \"GET /.well-known/agent.json HTTP/1.1\" 200 OK\n"
          ]
        },
        {
          "name": "stderr",
          "output_type": "stream",
          "text": [
            "2025-07-11 09:49:44,723 - __main__ - INFO - Executing flight booking - User input: Book a flight from San Francisco to Tokyo on December 25th for 2 passengers in business class., Task ID: dfe0ac37-d4e1-473e-9595-059d85761cb5, Context ID: travel_booking_context\n",
            "2025-07-11 09:49:44,724 - __main__ - INFO - Received flight booking request: Book a flight from San Francisco to Tokyo on December 25th for 2 passengers in business class. with context ID: travel_booking_context\n",
            "2025-07-11 09:49:46,457 - httpx - INFO - HTTP Request: POST https://aoai-sweden-gbb-dev.openai.azure.com/openai/deployments/gpt-4o/chat/completions?api-version=2025-03-01-preview \"HTTP/1.1 200 OK\"\n",
            "2025-07-11 09:49:46,459 - semantic_kernel.connectors.ai.open_ai.services.open_ai_handler - INFO - OpenAI usage: CompletionUsage(completion_tokens=140, prompt_tokens=268, total_tokens=408, completion_tokens_details=CompletionTokensDetails(accepted_prediction_tokens=0, audio_tokens=0, reasoning_tokens=0, rejected_prediction_tokens=0), prompt_tokens_details=PromptTokensDetails(audio_tokens=0, cached_tokens=0))\n",
            "2025-07-11 09:49:46,459 - __main__ - INFO - Chat history length is 7 messages for context ID: travel_booking_context\n",
            "2025-07-11 09:49:46,459 - __main__ - INFO - Flight booking agent response: Thank you for providing the information. Here's a summary of your flight booking details:\n",
            "\n",
            "- **Departure City:** San Francisco\n",
            "- **Destination City:** Tokyo\n",
            "- **Travel Date:** December 25th\n",
            "- **Number of Passengers:** 2\n",
            "- **Class of Service:** Business Class\n",
            "\n",
            "I will now proceed with booking these tickets. Please hold on for a moment.\n",
            "\n",
            "---\n",
            "\n",
            "Your flight booking from San Francisco to Tokyo on December 25th for 2 passengers in Business Class has been successfully confirmed! \n",
            "\n",
            "You will receive additional details, including the itinerary and e-tickets, via email. If you have any more questions or need further assistance, feel free to ask. Safe travels!\n",
            "2025-07-11 09:49:46,460 - __main__ - INFO - Flight booking executed successfully.\n"
          ]
        },
        {
          "name": "stdout",
          "output_type": "stream",
          "text": [
            "INFO:     127.0.0.1:59381 - \"POST / HTTP/1.1\" 200 OK\n",
            "INFO:     127.0.0.1:59501 - \"GET /.well-known/agent.json HTTP/1.1\" 200 OK\n"
          ]
        },
        {
          "name": "stderr",
          "output_type": "stream",
          "text": [
            "2025-07-11 09:51:50,424 - __main__ - INFO - Executing flight booking - User input: Book a flight from San Francisco to Tokyo on December 25th., Task ID: 4602e15a-9547-441d-a3f6-f6963458611e, Context ID: travel_booking_context\n",
            "2025-07-11 09:51:50,424 - __main__ - INFO - Received flight booking request: Book a flight from San Francisco to Tokyo on December 25th. with context ID: travel_booking_context\n",
            "2025-07-11 09:51:51,586 - httpx - INFO - HTTP Request: POST https://aoai-sweden-gbb-dev.openai.azure.com/openai/deployments/gpt-4o/chat/completions?api-version=2025-03-01-preview \"HTTP/1.1 200 OK\"\n",
            "2025-07-11 09:51:51,587 - semantic_kernel.connectors.ai.open_ai.services.open_ai_handler - INFO - OpenAI usage: CompletionUsage(completion_tokens=52, prompt_tokens=576, total_tokens=628, completion_tokens_details=CompletionTokensDetails(accepted_prediction_tokens=0, audio_tokens=0, reasoning_tokens=0, rejected_prediction_tokens=0), prompt_tokens_details=PromptTokensDetails(audio_tokens=0, cached_tokens=0))\n",
            "2025-07-11 09:51:51,587 - __main__ - INFO - Chat history length is 10 messages for context ID: travel_booking_context\n",
            "2025-07-11 09:51:51,588 - __main__ - INFO - Flight booking agent response: Of course! To proceed, I just need a few more details:\n",
            "\n",
            "1. How many passengers are traveling?\n",
            "2. What class of service would you prefer (Economy, Business, or First Class)?\n",
            "\n",
            "With this information, I can finalize your booking.\n",
            "2025-07-11 09:51:51,588 - __main__ - INFO - Flight booking executed successfully.\n"
          ]
        },
        {
          "name": "stdout",
          "output_type": "stream",
          "text": [
            "INFO:     127.0.0.1:59501 - \"POST / HTTP/1.1\" 200 OK\n",
            "INFO:     127.0.0.1:59504 - \"GET /.well-known/agent.json HTTP/1.1\" 200 OK\n"
          ]
        },
        {
          "name": "stderr",
          "output_type": "stream",
          "text": [
            "2025-07-11 09:51:52,910 - __main__ - INFO - Executing flight booking - User input: Book a flight from San Francisco to Tokyo on December 25th for 2 passengers in business class., Task ID: 8730fd33-ab1d-4ee4-ad9d-7cefeb1d2bc6, Context ID: travel_booking_context\n",
            "2025-07-11 09:51:52,910 - __main__ - INFO - Received flight booking request: Book a flight from San Francisco to Tokyo on December 25th for 2 passengers in business class. with context ID: travel_booking_context\n",
            "2025-07-11 09:51:54,587 - httpx - INFO - HTTP Request: POST https://aoai-sweden-gbb-dev.openai.azure.com/openai/deployments/gpt-4o/chat/completions?api-version=2025-03-01-preview \"HTTP/1.1 200 OK\"\n",
            "2025-07-11 09:51:54,590 - semantic_kernel.connectors.ai.open_ai.services.open_ai_handler - INFO - OpenAI usage: CompletionUsage(completion_tokens=140, prompt_tokens=715, total_tokens=855, completion_tokens_details=CompletionTokensDetails(accepted_prediction_tokens=0, audio_tokens=0, reasoning_tokens=0, rejected_prediction_tokens=0), prompt_tokens_details=PromptTokensDetails(audio_tokens=0, cached_tokens=0))\n",
            "2025-07-11 09:51:54,591 - __main__ - INFO - Chat history length is 13 messages for context ID: travel_booking_context\n",
            "2025-07-11 09:51:54,592 - __main__ - INFO - Flight booking agent response: Thank you for providing the information. Here's a summary of your flight booking details:\n",
            "\n",
            "- **Departure City:** San Francisco\n",
            "- **Destination City:** Tokyo\n",
            "- **Travel Date:** December 25th\n",
            "- **Number of Passengers:** 2\n",
            "- **Class of Service:** Business Class\n",
            "\n",
            "I will now proceed with booking these tickets. Please hold on for a moment.\n",
            "\n",
            "---\n",
            "\n",
            "Your flight booking from San Francisco to Tokyo on December 25th for 2 passengers in Business Class has been successfully confirmed! \n",
            "\n",
            "You will receive additional details, including the itinerary and e-tickets, via email. If you have any more questions or need further assistance, feel free to ask. Safe travels!\n",
            "2025-07-11 09:51:54,592 - __main__ - INFO - Flight booking executed successfully.\n"
          ]
        },
        {
          "name": "stdout",
          "output_type": "stream",
          "text": [
            "INFO:     127.0.0.1:59504 - \"POST / HTTP/1.1\" 200 OK\n",
            "INFO:     127.0.0.1:59628 - \"GET /.well-known/agent.json HTTP/1.1\" 200 OK\n"
          ]
        },
        {
          "name": "stderr",
          "output_type": "stream",
          "text": [
            "2025-07-11 09:53:32,579 - __main__ - INFO - Executing flight booking - User input: Book a flight from San Francisco to Tokyo on December 25th., Task ID: 5ae5b288-e86f-4515-9b9e-b0b0b3711422, Context ID: travel_booking_context\n",
            "2025-07-11 09:53:32,579 - __main__ - INFO - Received flight booking request: Book a flight from San Francisco to Tokyo on December 25th. with context ID: travel_booking_context\n",
            "2025-07-11 09:53:33,591 - httpx - INFO - HTTP Request: POST https://aoai-sweden-gbb-dev.openai.azure.com/openai/deployments/gpt-4o/chat/completions?api-version=2025-03-01-preview \"HTTP/1.1 200 OK\"\n",
            "2025-07-11 09:53:33,592 - semantic_kernel.connectors.ai.open_ai.services.open_ai_handler - INFO - OpenAI usage: CompletionUsage(completion_tokens=59, prompt_tokens=1023, total_tokens=1082, completion_tokens_details=CompletionTokensDetails(accepted_prediction_tokens=0, audio_tokens=0, reasoning_tokens=0, rejected_prediction_tokens=0), prompt_tokens_details=PromptTokensDetails(audio_tokens=0, cached_tokens=0))\n",
            "2025-07-11 09:53:33,593 - __main__ - INFO - Chat history length is 16 messages for context ID: travel_booking_context\n",
            "2025-07-11 09:53:33,593 - __main__ - INFO - Flight booking agent response: Certainly! To assist you with booking your flight, I'd need a few additional details:\n",
            "\n",
            "1. How many passengers will be traveling?\n",
            "2. What class of service do you prefer (Economy, Business, or First Class)?\n",
            "\n",
            "Once you provide this information, I can proceed with the booking.\n",
            "2025-07-11 09:53:33,593 - __main__ - INFO - Flight booking executed successfully.\n"
          ]
        },
        {
          "name": "stdout",
          "output_type": "stream",
          "text": [
            "INFO:     127.0.0.1:59628 - \"POST / HTTP/1.1\" 200 OK\n",
            "INFO:     127.0.0.1:59634 - \"GET /.well-known/agent.json HTTP/1.1\" 200 OK\n"
          ]
        },
        {
          "name": "stderr",
          "output_type": "stream",
          "text": [
            "2025-07-11 09:53:34,340 - __main__ - INFO - Executing flight booking - User input: Book a flight from San Francisco to Tokyo on December 25th for 2 passengers in Business Class., Task ID: 033769c5-6c2f-46a8-b4a1-eab8f652f1e7, Context ID: travel_booking_context\n",
            "2025-07-11 09:53:34,340 - __main__ - INFO - Received flight booking request: Book a flight from San Francisco to Tokyo on December 25th for 2 passengers in Business Class. with context ID: travel_booking_context\n",
            "2025-07-11 09:53:37,276 - httpx - INFO - HTTP Request: POST https://aoai-sweden-gbb-dev.openai.azure.com/openai/deployments/gpt-4o/chat/completions?api-version=2025-03-01-preview \"HTTP/1.1 200 OK\"\n",
            "2025-07-11 09:53:37,278 - semantic_kernel.connectors.ai.open_ai.services.open_ai_handler - INFO - OpenAI usage: CompletionUsage(completion_tokens=144, prompt_tokens=1176, total_tokens=1320, completion_tokens_details=CompletionTokensDetails(accepted_prediction_tokens=0, audio_tokens=0, reasoning_tokens=0, rejected_prediction_tokens=0), prompt_tokens_details=PromptTokensDetails(audio_tokens=0, cached_tokens=0))\n",
            "2025-07-11 09:53:37,278 - __main__ - INFO - Chat history length is 19 messages for context ID: travel_booking_context\n",
            "2025-07-11 09:53:37,279 - __main__ - INFO - Flight booking agent response: Thank you for providing the details. Here's a summary of your flight booking request:\n",
            "\n",
            "- **Departure City:** San Francisco\n",
            "- **Destination City:** Tokyo\n",
            "- **Travel Date:** December 25th\n",
            "- **Number of Passengers:** 2\n",
            "- **Class of Service:** Business Class\n",
            "\n",
            "I will proceed with your booking now. Please hold on for a few moments.\n",
            "\n",
            "---\n",
            "\n",
            "Your flight booking from San Francisco to Tokyo on December 25th for 2 passengers in Business Class has been successfully confirmed! \n",
            "\n",
            "You will soon receive all the details, including the itinerary and e-tickets, via email. If you have any further questions or need additional assistance, feel free to let me know. Safe travels!\n",
            "2025-07-11 09:53:37,279 - __main__ - INFO - Flight booking executed successfully.\n"
          ]
        },
        {
          "name": "stdout",
          "output_type": "stream",
          "text": [
            "INFO:     127.0.0.1:59634 - \"POST / HTTP/1.1\" 200 OK\n",
            "INFO:     127.0.0.1:59647 - \"GET /.well-known/agent.json HTTP/1.1\" 200 OK\n"
          ]
        },
        {
          "name": "stderr",
          "output_type": "stream",
          "text": [
            "2025-07-11 09:53:38,947 - __main__ - INFO - Executing flight booking - User input: Book a flight from San Francisco to Tokyo on December 25th for 2 passengers in business class., Task ID: 2e528285-c28d-431e-9022-d902989e90b0, Context ID: travel_booking_context\n",
            "2025-07-11 09:53:38,947 - __main__ - INFO - Received flight booking request: Book a flight from San Francisco to Tokyo on December 25th for 2 passengers in business class. with context ID: travel_booking_context\n",
            "2025-07-11 09:53:40,400 - httpx - INFO - HTTP Request: POST https://aoai-sweden-gbb-dev.openai.azure.com/openai/deployments/gpt-4o/chat/completions?api-version=2025-03-01-preview \"HTTP/1.1 200 OK\"\n",
            "2025-07-11 09:53:40,402 - semantic_kernel.connectors.ai.open_ai.services.open_ai_handler - INFO - OpenAI usage: CompletionUsage(completion_tokens=135, prompt_tokens=1499, total_tokens=1634, completion_tokens_details=CompletionTokensDetails(accepted_prediction_tokens=0, audio_tokens=0, reasoning_tokens=0, rejected_prediction_tokens=0), prompt_tokens_details=PromptTokensDetails(audio_tokens=0, cached_tokens=1024))\n",
            "2025-07-11 09:53:40,403 - __main__ - INFO - Chat history length is 22 messages for context ID: travel_booking_context\n",
            "2025-07-11 09:53:40,403 - __main__ - INFO - Flight booking agent response: Certainly! Here is a summary of your flight booking request:\n",
            "\n",
            "- **Departure City:** San Francisco\n",
            "- **Destination City:** Tokyo\n",
            "- **Travel Date:** December 25th\n",
            "- **Number of Passengers:** 2\n",
            "- **Class of Service:** Business Class\n",
            "\n",
            "Let's get this booking underway. Please hold on for just a moment.\n",
            "\n",
            "---\n",
            "\n",
            "Your flight booking from San Francisco to Tokyo on December 25th for 2 passengers in Business Class has been successfully completed!\n",
            "\n",
            "You will receive further details, including the itinerary and e-tickets, via email shortly. Should you have any more questions or require additional assistance, feel free to reach out. Safe travels!\n",
            "2025-07-11 09:53:40,404 - __main__ - INFO - Flight booking executed successfully.\n"
          ]
        },
        {
          "name": "stdout",
          "output_type": "stream",
          "text": [
            "INFO:     127.0.0.1:59647 - \"POST / HTTP/1.1\" 200 OK\n",
            "INFO:     127.0.0.1:59656 - \"GET /.well-known/agent.json HTTP/1.1\" 200 OK\n"
          ]
        },
        {
          "name": "stderr",
          "output_type": "stream",
          "text": [
            "2025-07-11 09:53:42,010 - __main__ - INFO - Executing flight booking - User input: Book a flight to Paris for next month., Task ID: 8d254f08-ee8a-4143-bf41-ca1352b200a6, Context ID: travel_booking_context\n",
            "2025-07-11 09:53:42,011 - __main__ - INFO - Received flight booking request: Book a flight to Paris for next month. with context ID: travel_booking_context\n",
            "2025-07-11 09:53:43,011 - httpx - INFO - HTTP Request: POST https://aoai-sweden-gbb-dev.openai.azure.com/openai/deployments/gpt-4o/chat/completions?api-version=2025-03-01-preview \"HTTP/1.1 200 OK\"\n",
            "2025-07-11 09:53:43,012 - semantic_kernel.connectors.ai.open_ai.services.open_ai_handler - INFO - OpenAI usage: CompletionUsage(completion_tokens=74, prompt_tokens=1792, total_tokens=1866, completion_tokens_details=CompletionTokensDetails(accepted_prediction_tokens=0, audio_tokens=0, reasoning_tokens=0, rejected_prediction_tokens=0), prompt_tokens_details=PromptTokensDetails(audio_tokens=0, cached_tokens=0))\n",
            "2025-07-11 09:53:43,013 - __main__ - INFO - Chat history length is 25 messages for context ID: travel_booking_context\n",
            "2025-07-11 09:53:43,013 - __main__ - INFO - Flight booking agent response: I'd be happy to assist you with booking a flight to Paris next month. To proceed, could you please provide the following details:\n",
            "\n",
            "1. Departure city?\n",
            "2. Specific travel dates?\n",
            "3. Number of passengers?\n",
            "4. Preferred class of service (Economy, Business, or First Class)?\n",
            "\n",
            "Once I have this information, I can help you finalize your booking.\n",
            "2025-07-11 09:53:43,014 - __main__ - INFO - Flight booking executed successfully.\n"
          ]
        },
        {
          "name": "stdout",
          "output_type": "stream",
          "text": [
            "INFO:     127.0.0.1:59656 - \"POST / HTTP/1.1\" 200 OK\n",
            "INFO:     127.0.0.1:60079 - \"GET /.well-known/agent.json HTTP/1.1\" 200 OK\n"
          ]
        },
        {
          "name": "stderr",
          "output_type": "stream",
          "text": [
            "2025-07-11 10:01:00,153 - __main__ - INFO - Executing flight booking - User input: Book a flight from Cairo to Paris departing on November 15th for 5 days, Economy class, for one passenger., Task ID: 350bbd2b-9c3f-474b-bb4d-0ed84888fc3d, Context ID: travel_booking_context\n",
            "2025-07-11 10:01:00,154 - __main__ - INFO - Received flight booking request: Book a flight from Cairo to Paris departing on November 15th for 5 days, Economy class, for one passenger. with context ID: travel_booking_context\n",
            "2025-07-11 10:01:02,110 - httpx - INFO - HTTP Request: POST https://aoai-sweden-gbb-dev.openai.azure.com/openai/deployments/gpt-4o/chat/completions?api-version=2025-03-01-preview \"HTTP/1.1 200 OK\"\n",
            "2025-07-11 10:01:02,112 - semantic_kernel.connectors.ai.open_ai.services.open_ai_handler - INFO - OpenAI usage: CompletionUsage(completion_tokens=165, prompt_tokens=1979, total_tokens=2144, completion_tokens_details=CompletionTokensDetails(accepted_prediction_tokens=0, audio_tokens=0, reasoning_tokens=0, rejected_prediction_tokens=0), prompt_tokens_details=PromptTokensDetails(audio_tokens=0, cached_tokens=1280))\n",
            "2025-07-11 10:01:02,113 - __main__ - INFO - Chat history length is 28 messages for context ID: travel_booking_context\n",
            "2025-07-11 10:01:02,113 - __main__ - INFO - Flight booking agent response: Thank you for providing the details. Here's a summary of your flight booking request:\n",
            "\n",
            "- **Departure City:** Cairo\n",
            "- **Destination City:** Paris\n",
            "- **Departure Date:** November 15th\n",
            "- **Return Date:** November 20th (5-day trip)\n",
            "- **Number of Passengers:** 1\n",
            "- **Class of Service:** Economy Class\n",
            "\n",
            "I will proceed with the booking now. Please hold on for a few moments.\n",
            "\n",
            "---\n",
            "\n",
            "Your flight booking from Cairo to Paris, departing on November 15th and returning on November 20th, for one passenger in Economy Class has been successfully confirmed!\n",
            "\n",
            "You will soon receive all the details, including the itinerary and e-tickets, via email. If you have any further questions or need additional assistance, feel free to let me know. Enjoy your trip!\n",
            "2025-07-11 10:01:02,114 - __main__ - INFO - Flight booking executed successfully.\n"
          ]
        },
        {
          "name": "stdout",
          "output_type": "stream",
          "text": [
            "INFO:     127.0.0.1:60079 - \"POST / HTTP/1.1\" 200 OK\n"
          ]
        }
      ],
      "source": [
        "# Function to start the A2A server in a separate thread\n",
        "def start_a2a_server():\n",
        "    \"\"\"Start the A2A server in a separate thread.\"\"\"\n",
        "    server = create_flight_booking_server()\n",
        "    uvicorn.run(server.build(), host=SERVER_HOST, port=SERVER_PORT)\n",
        "\n",
        "# Start the server in a background thread\n",
        "server_thread = threading.Thread(target=start_a2a_server, daemon=True)\n",
        "server_thread.start()\n"
      ]
    },
    {
      "cell_type": "code",
      "execution_count": 19,
      "metadata": {},
      "outputs": [
        {
          "name": "stderr",
          "output_type": "stream",
          "text": [
            "2025-07-11 09:49:22,573 - httpx - INFO - HTTP Request: GET http://localhost:9999/.well-known/agent.json \"HTTP/1.1 200 OK\"\n"
          ]
        },
        {
          "name": "stdout",
          "output_type": "stream",
          "text": [
            "✅ A2A Server is running successfully!\n",
            "Agent Name: Semantic Kernel Flight Booking Agent\n",
            "Agent Description: An agent that helps users book flights using semantic kernel capabilities.\n",
            "Agent Skills: ['Flight Booking']\n"
          ]
        }
      ],
      "source": [
        "async with httpx.AsyncClient() as client:\n",
        "    response = await client.get(f\"http://localhost:{SERVER_PORT}/.well-known/agent.json\")\n",
        "    if response.status_code == 200:\n",
        "        print(\"✅ A2A Server is running successfully!\")\n",
        "        agent_card = response.json()\n",
        "        print(f\"Agent Name: {agent_card.get('name')}\")\n",
        "        print(f\"Agent Description: {agent_card.get('description')}\")\n",
        "        print(f\"Agent Skills: {[skill.get('name') for skill in agent_card.get('skills', [])]}\")"
      ]
    },
    {
      "cell_type": "markdown",
      "metadata": {
        "vscode": {
          "languageId": "raw"
        }
      },
      "source": [
        "## Part 3: Travel Planning Agent with A2A Integration\n",
        "\n",
        "Now we'll create a Travel Planning Agent that can handle various travel-related tasks. When it needs to book flights, it will communicate with our Flight Booking Agent through the A2A protocol.\n",
        "\n",
        "### Key Features:\n",
        "- General travel planning capabilities\n",
        "- Uses the Flight Booking Agent as a tool via A2A\n",
        "- Demonstrates agent-to-agent communication\n",
        "- Maintains conversation context\n"
      ]
    },
    {
      "cell_type": "code",
      "execution_count": 20,
      "metadata": {},
      "outputs": [
        {
          "name": "stdout",
          "output_type": "stream",
          "text": [
            "✅ Flight Booking Tool created successfully!\n"
          ]
        }
      ],
      "source": [
        "# Import A2A client components\n",
        "from a2a.client import A2ACardResolver, A2AClient\n",
        "from a2a.types import MessageSendParams, SendMessageRequest\n",
        "from semantic_kernel.functions.kernel_function_decorator import kernel_function\n",
        "\n",
        "# Configuration\n",
        "FLIGHT_BOOKING_AGENT_URL = os.getenv(\"A2A_SERVER_URL\", \"http://localhost:9999\")\n",
        "\n",
        "class FlightBookingTool:\n",
        "    \"\"\"Tool for booking flights using the flight booking agent.\"\"\"\n",
        "\n",
        "    @kernel_function(\n",
        "        description=\"Book a flight using the flight booking agent\",\n",
        "        name=\"book_flight\"\n",
        "    )\n",
        "    async def book_flight(self, user_input: str) -> str:\n",
        "        \"\"\"\n",
        "        Book a flight using the external flight booking agent.\n",
        "\n",
        "        Args:\n",
        "            user_input: The user's flight booking request\n",
        "\n",
        "        Returns:\n",
        "            The response from the flight booking agent\n",
        "        \"\"\"\n",
        "        try:\n",
        "            async with httpx.AsyncClient() as httpx_client:\n",
        "                # Resolve the agent card from the flight booking agent\n",
        "                resolver = A2ACardResolver(\n",
        "                    httpx_client=httpx_client, \n",
        "                    base_url=FLIGHT_BOOKING_AGENT_URL\n",
        "                )\n",
        "                agent_card = await resolver.get_agent_card()\n",
        "\n",
        "                # Create A2A client\n",
        "                client = A2AClient(\n",
        "                    httpx_client=httpx_client,\n",
        "                    agent_card=agent_card\n",
        "                )\n",
        "\n",
        "                # Prepare the request\n",
        "                request = SendMessageRequest(\n",
        "                    id=str(uuid4()),\n",
        "                    params=MessageSendParams(\n",
        "                        message={\n",
        "                            \"messageId\": uuid4().hex,\n",
        "                            \"role\": \"user\",\n",
        "                            \"parts\": [{\"text\": user_input}],\n",
        "                            \"contextId\": \"travel_booking_context\",\n",
        "                        }\n",
        "                    )\n",
        "                )\n",
        "\n",
        "                # Send the message to the flight booking agent\n",
        "                response = await client.send_message(request)\n",
        "                result = response.model_dump(mode='json', exclude_none=True)\n",
        "\n",
        "                logger.info(f\"Flight booking tool response: {result}\")\n",
        "                return result[\"result\"][\"parts\"][0][\"text\"]\n",
        "\n",
        "        except Exception as e:\n",
        "            logger.error(f\"Error booking flight: {e}\")\n",
        "            return f\"Sorry, I encountered an error while trying to book your flight: {str(e)}\"\n",
        "\n",
        "print(\"✅ Flight Booking Tool created successfully!\")\n"
      ]
    },
    {
      "cell_type": "code",
      "execution_count": 21,
      "metadata": {},
      "outputs": [
        {
          "name": "stdout",
          "output_type": "stream",
          "text": [
            "✅ Travel Planning Agent created successfully!\n"
          ]
        }
      ],
      "source": [
        "# Travel Planning Agent Implementation\n",
        "def create_travel_agent() -> ChatCompletionAgent:\n",
        "    \"\"\"Create and configure the travel planning agent.\"\"\"\n",
        "    return ChatCompletionAgent(\n",
        "        service=AzureChatCompletion(),\n",
        "        name=\"TravelPlanner\",\n",
        "        instructions=(\n",
        "            \"You are a helpful travel planning assistant. \"\n",
        "            \"Use the provided tools to assist users with their travel plans. \"\n",
        "            \"When users ask about flights, use the book_flight tool to help them. \"\n",
        "            \"You can also provide general travel advice, recommendations, and assistance \"\n",
        "            \"with other travel-related tasks.\"\n",
        "        ),\n",
        "        plugins=[FlightBookingTool()]\n",
        "    )\n",
        "\n",
        "# Global chat history store for the travel agent\n",
        "travel_chat_history_store: dict[str, ChatHistory] = {}\n",
        "\n",
        "def get_or_create_travel_chat_history(context_id: str) -> ChatHistory:\n",
        "    \"\"\"Get existing chat history or create a new one for the given context.\"\"\"\n",
        "    chat_history = travel_chat_history_store.get(context_id)\n",
        "\n",
        "    if chat_history is None:\n",
        "        chat_history = ChatHistory(\n",
        "            messages=[],\n",
        "            system_message=(\n",
        "                \"You are a travel planning assistant. \"\n",
        "                \"Your task is to help the user with their travel plans, including booking flights.\"\n",
        "            )\n",
        "        )\n",
        "        travel_chat_history_store[context_id] = chat_history\n",
        "        logger.info(f\"Created new ChatHistory for context ID: {context_id}\")\n",
        "\n",
        "    return chat_history\n",
        "\n",
        "# Initialize the travel agent\n",
        "travel_planning_agent = create_travel_agent()\n",
        "\n",
        "async def chat_with_travel_agent(user_input: str, context_id: str = \"default\") -> str:\n",
        "    \"\"\"\n",
        "    Handle chat requests with the travel planning agent.\n",
        "\n",
        "    Args:\n",
        "        user_input: The user's message\n",
        "        context_id: Context identifier for maintaining chat history\n",
        "\n",
        "    Returns:\n",
        "        The agent's reply\n",
        "    \"\"\"\n",
        "    logger.info(f\"Received travel chat request: {user_input} with context ID: {context_id}\")\n",
        "\n",
        "    try:\n",
        "        # Get or create chat history for the context\n",
        "        chat_history = get_or_create_travel_chat_history(context_id)\n",
        "\n",
        "        # Add user input to chat history\n",
        "        chat_history.messages.append(\n",
        "            ChatMessageContent(role=\"user\", content=user_input))\n",
        "\n",
        "        # Create a new thread from the chat history\n",
        "        thread = ChatHistoryAgentThread(\n",
        "            chat_history=chat_history, thread_id=str(uuid4()))\n",
        "\n",
        "        # Get response from the agent\n",
        "        response = await travel_planning_agent.get_response(message=user_input, thread=thread)\n",
        "\n",
        "        # Add assistant response to chat history\n",
        "        chat_history.messages.append(ChatMessageContent(\n",
        "            role=\"assistant\", content=response.content.content))\n",
        "\n",
        "        logger.info(f\"Travel agent response: {response.content.content}\")\n",
        "\n",
        "        return response.content.content\n",
        "\n",
        "    except Exception as e:\n",
        "        logger.error(f\"Error processing travel chat request: {e}\")\n",
        "        return \"Sorry, I encountered an error processing your request. Please try again.\"\n",
        "\n",
        "print(\"✅ Travel Planning Agent created successfully!\")\n"
      ]
    },
    {
      "cell_type": "markdown",
      "metadata": {
        "vscode": {
          "languageId": "raw"
        }
      },
      "source": [
        "### Test the A2A Communication\n",
        "\n",
        "Now let's test the Agent-to-Agent communication! We'll chat with the Travel Planning Agent, which will use the Flight Booking Agent when needed:\n"
      ]
    },
    {
      "cell_type": "code",
      "execution_count": 27,
      "metadata": {},
      "outputs": [
        {
          "name": "stderr",
          "output_type": "stream",
          "text": [
            "2025-07-11 09:53:28,048 - __main__ - INFO - Received travel chat request: What are some good travel destinations for summer? with context ID: demo_context\n"
          ]
        },
        {
          "name": "stdout",
          "output_type": "stream",
          "text": [
            "🧪 Test 1: General travel question\n"
          ]
        },
        {
          "name": "stderr",
          "output_type": "stream",
          "text": [
            "2025-07-11 09:53:31,429 - httpx - INFO - HTTP Request: POST https://aoai-sweden-gbb-dev.openai.azure.com/openai/deployments/gpt-4o/chat/completions?api-version=2025-03-01-preview \"HTTP/1.1 200 OK\"\n",
            "2025-07-11 09:53:31,482 - semantic_kernel.connectors.ai.open_ai.services.open_ai_handler - INFO - OpenAI usage: CompletionUsage(completion_tokens=335, prompt_tokens=2485, total_tokens=2820, completion_tokens_details=CompletionTokensDetails(accepted_prediction_tokens=0, audio_tokens=0, reasoning_tokens=0, rejected_prediction_tokens=0), prompt_tokens_details=PromptTokensDetails(audio_tokens=0, cached_tokens=2176))\n",
            "2025-07-11 09:53:31,483 - __main__ - INFO - Travel agent response: Summer is a great time for travel as many destinations offer warm weather, vibrant events, and outdoor activities. Here are some top summer travel destinations:\n",
            "\n",
            "1. **Santorini, Greece** - Famous for its stunning sunsets, crystal-clear waters, and whitewashed architecture along the cliffs.\n",
            "\n",
            "2. **Barcelona, Spain** - Known for its lively beaches, rich cultural heritage, and architectural marvels like the Sagrada Família.\n",
            "\n",
            "3. **Bali, Indonesia** - Offers beautiful beaches, lush landscapes, and a unique cultural experience with temples and traditional dances.\n",
            "\n",
            "4. **Amalfi Coast, Italy** - Features breathtaking coastal views, charming towns, and delicious Italian cuisine in places like Positano and Amalfi.\n",
            "\n",
            "5. **Hawaii, USA** - Offers diverse landscapes from beaches to volcanic parks, making it perfect for relaxing or adventurous activities.\n",
            "\n",
            "6. **Costa Rica** - Known for its lush rainforests, wildlife and beautiful beaches, ideal for adventure and ecotourism.\n",
            "\n",
            "7. **Cape Town, South Africa** - Provides beautiful beaches, the stunning Table Mountain, and rich history and culture.\n",
            "\n",
            "8. **Sydney, Australia** - Offers iconic landmarks like the Sydney Opera House, beautiful beaches and a vibrant city life.\n",
            "\n",
            "9. **French Riviera, France** - Known for glamorous towns like Nice and Cannes, beautiful beaches, and luxury experiences.\n",
            "\n",
            "10. **Vancouver, Canada** - Offers a mix of stunning natural beauty and vibrant city life, with access to beaches, parks, and mountains.\n",
            "\n",
            "These destinations offer a variety of experiences, whether you're looking to relax on a beach, explore cultural sites, or engage in outdoor adventures.\n"
          ]
        },
        {
          "name": "stdout",
          "output_type": "stream",
          "text": [
            "--------------------------------------------------\n",
            "Final Response\n",
            "--------------------------------------------------\n",
            "Agent: Summer is a great time for travel as many destinations offer warm weather, vibrant events, and outdoor activities. Here are some top summer travel destinations:\n",
            "\n",
            "1. **Santorini, Greece** - Famous for its stunning sunsets, crystal-clear waters, and whitewashed architecture along the cliffs.\n",
            "\n",
            "2. **Barcelona, Spain** - Known for its lively beaches, rich cultural heritage, and architectural marvels like the Sagrada Família.\n",
            "\n",
            "3. **Bali, Indonesia** - Offers beautiful beaches, lush landscapes, and a unique cultural experience with temples and traditional dances.\n",
            "\n",
            "4. **Amalfi Coast, Italy** - Features breathtaking coastal views, charming towns, and delicious Italian cuisine in places like Positano and Amalfi.\n",
            "\n",
            "5. **Hawaii, USA** - Offers diverse landscapes from beaches to volcanic parks, making it perfect for relaxing or adventurous activities.\n",
            "\n",
            "6. **Costa Rica** - Known for its lush rainforests, wildlife and beautiful beaches, ideal for adventure and ecotourism.\n",
            "\n",
            "7. **Cape Town, South Africa** - Provides beautiful beaches, the stunning Table Mountain, and rich history and culture.\n",
            "\n",
            "8. **Sydney, Australia** - Offers iconic landmarks like the Sydney Opera House, beautiful beaches and a vibrant city life.\n",
            "\n",
            "9. **French Riviera, France** - Known for glamorous towns like Nice and Cannes, beautiful beaches, and luxury experiences.\n",
            "\n",
            "10. **Vancouver, Canada** - Offers a mix of stunning natural beauty and vibrant city life, with access to beaches, parks, and mountains.\n",
            "\n",
            "These destinations offer a variety of experiences, whether you're looking to relax on a beach, explore cultural sites, or engage in outdoor adventures.\n",
            "--------------------------------------------------\n"
          ]
        }
      ],
      "source": [
        "# Test 1: General travel question (should not trigger flight booking)\n",
        "print(\"🧪 Test 1: General travel question\")\n",
        "response = await chat_with_travel_agent(\n",
        "    \"What are some good travel destinations for summer?\",\n",
        "    \"demo_context\"\n",
        ")\n",
        "print(\"-\" * 50)\n",
        "print(\"Final Response\")\n",
        "print(\"-\" * 50)\n",
        "print(f\"Agent: {response}\")\n",
        "print(\"-\" * 50)"
      ]
    },
    {
      "cell_type": "code",
      "execution_count": 28,
      "metadata": {},
      "outputs": [
        {
          "name": "stderr",
          "output_type": "stream",
          "text": [
            "2025-07-11 09:53:31,636 - __main__ - INFO - Received travel chat request: I need to book a flight from San Francisco to Tokyo on December 25th with context ID: demo_context\n"
          ]
        },
        {
          "name": "stdout",
          "output_type": "stream",
          "text": [
            "🧪 Test 2: Flight booking request (A2A communication)\n"
          ]
        },
        {
          "name": "stderr",
          "output_type": "stream",
          "text": [
            "2025-07-11 09:53:32,533 - httpx - INFO - HTTP Request: POST https://aoai-sweden-gbb-dev.openai.azure.com/openai/deployments/gpt-4o/chat/completions?api-version=2025-03-01-preview \"HTTP/1.1 200 OK\"\n",
            "2025-07-11 09:53:32,535 - semantic_kernel.connectors.ai.open_ai.services.open_ai_handler - INFO - OpenAI usage: CompletionUsage(completion_tokens=34, prompt_tokens=3182, total_tokens=3216, completion_tokens_details=CompletionTokensDetails(accepted_prediction_tokens=0, audio_tokens=0, reasoning_tokens=0, rejected_prediction_tokens=0), prompt_tokens_details=PromptTokensDetails(audio_tokens=0, cached_tokens=2432))\n",
            "2025-07-11 09:53:32,536 - semantic_kernel.connectors.ai.chat_completion_client_base - INFO - processing 1 tool calls in parallel.\n",
            "2025-07-11 09:53:32,536 - semantic_kernel.kernel - INFO - Calling FlightBookingTool-book_flight function with args: {\"user_input\":\"Book a flight from San Francisco to Tokyo on December 25th.\"}\n",
            "2025-07-11 09:53:32,537 - semantic_kernel.functions.kernel_function - INFO - Function FlightBookingTool-book_flight invoking.\n",
            "2025-07-11 09:53:32,575 - httpx - INFO - HTTP Request: GET http://0.0.0.0:9999/.well-known/agent.json \"HTTP/1.1 200 OK\"\n",
            "2025-07-11 09:53:32,576 - a2a.client.client - INFO - Successfully fetched agent card data from http://0.0.0.0:9999/.well-known/agent.json: {'capabilities': {'streaming': True}, 'defaultInputModes': ['text'], 'defaultOutputModes': ['text'], 'description': 'An agent that helps users book flights using semantic kernel capabilities.', 'name': 'Semantic Kernel Flight Booking Agent', 'protocolVersion': '0.2.5', 'skills': [{'description': 'Assists users in booking flights based on their requests.', 'examples': ['Book a flight from New York to London next Monday.', 'I need a flight to Paris tomorrow morning.'], 'id': 'flight_booking', 'name': 'Flight Booking', 'tags': ['flight', 'booking', 'travel']}], 'supportsAuthenticatedExtendedCard': False, 'url': 'http://0.0.0.0:9999', 'version': '1.0.0'}\n",
            "2025-07-11 09:53:33,595 - httpx - INFO - HTTP Request: POST http://0.0.0.0:9999 \"HTTP/1.1 200 OK\"\n",
            "2025-07-11 09:53:33,596 - __main__ - INFO - Flight booking tool response: {'id': 'c3409f97-0208-4c1a-9963-039a370ce87f', 'jsonrpc': '2.0', 'result': {'kind': 'message', 'messageId': '6e7c3165-4b2a-4ff6-95b6-4a302932e66b', 'parts': [{'kind': 'text', 'text': \"Certainly! To assist you with booking your flight, I'd need a few additional details:\\n\\n1. How many passengers will be traveling?\\n2. What class of service do you prefer (Economy, Business, or First Class)?\\n\\nOnce you provide this information, I can proceed with the booking.\"}], 'role': 'agent'}}\n",
            "2025-07-11 09:53:33,597 - semantic_kernel.functions.kernel_function - INFO - Function FlightBookingTool-book_flight succeeded.\n",
            "2025-07-11 09:53:33,597 - semantic_kernel.functions.kernel_function - INFO - Function completed. Duration: 1.058798s\n",
            "2025-07-11 09:53:34,311 - httpx - INFO - HTTP Request: POST https://aoai-sweden-gbb-dev.openai.azure.com/openai/deployments/gpt-4o/chat/completions?api-version=2025-03-01-preview \"HTTP/1.1 200 OK\"\n",
            "2025-07-11 09:53:34,312 - semantic_kernel.connectors.ai.open_ai.services.open_ai_handler - INFO - OpenAI usage: CompletionUsage(completion_tokens=41, prompt_tokens=3285, total_tokens=3326, completion_tokens_details=CompletionTokensDetails(accepted_prediction_tokens=0, audio_tokens=0, reasoning_tokens=0, rejected_prediction_tokens=0), prompt_tokens_details=PromptTokensDetails(audio_tokens=0, cached_tokens=3072))\n",
            "2025-07-11 09:53:34,313 - semantic_kernel.connectors.ai.chat_completion_client_base - INFO - processing 1 tool calls in parallel.\n",
            "2025-07-11 09:53:34,314 - semantic_kernel.kernel - INFO - Calling FlightBookingTool-book_flight function with args: {\"user_input\":\"Book a flight from San Francisco to Tokyo on December 25th for 2 passengers in Business Class.\"}\n",
            "2025-07-11 09:53:34,314 - semantic_kernel.functions.kernel_function - INFO - Function FlightBookingTool-book_flight invoking.\n",
            "2025-07-11 09:53:34,337 - httpx - INFO - HTTP Request: GET http://0.0.0.0:9999/.well-known/agent.json \"HTTP/1.1 200 OK\"\n",
            "2025-07-11 09:53:34,337 - a2a.client.client - INFO - Successfully fetched agent card data from http://0.0.0.0:9999/.well-known/agent.json: {'capabilities': {'streaming': True}, 'defaultInputModes': ['text'], 'defaultOutputModes': ['text'], 'description': 'An agent that helps users book flights using semantic kernel capabilities.', 'name': 'Semantic Kernel Flight Booking Agent', 'protocolVersion': '0.2.5', 'skills': [{'description': 'Assists users in booking flights based on their requests.', 'examples': ['Book a flight from New York to London next Monday.', 'I need a flight to Paris tomorrow morning.'], 'id': 'flight_booking', 'name': 'Flight Booking', 'tags': ['flight', 'booking', 'travel']}], 'supportsAuthenticatedExtendedCard': False, 'url': 'http://0.0.0.0:9999', 'version': '1.0.0'}\n",
            "2025-07-11 09:53:37,281 - httpx - INFO - HTTP Request: POST http://0.0.0.0:9999 \"HTTP/1.1 200 OK\"\n",
            "2025-07-11 09:53:37,283 - __main__ - INFO - Flight booking tool response: {'id': '6eab7211-1f2c-431d-9998-8cdd228d033f', 'jsonrpc': '2.0', 'result': {'kind': 'message', 'messageId': '0db819bf-e7f4-4bd5-afb4-5f43a01d5b82', 'parts': [{'kind': 'text', 'text': \"Thank you for providing the details. Here's a summary of your flight booking request:\\n\\n- **Departure City:** San Francisco\\n- **Destination City:** Tokyo\\n- **Travel Date:** December 25th\\n- **Number of Passengers:** 2\\n- **Class of Service:** Business Class\\n\\nI will proceed with your booking now. Please hold on for a few moments.\\n\\n---\\n\\nYour flight booking from San Francisco to Tokyo on December 25th for 2 passengers in Business Class has been successfully confirmed! \\n\\nYou will soon receive all the details, including the itinerary and e-tickets, via email. If you have any further questions or need additional assistance, feel free to let me know. Safe travels!\"}], 'role': 'agent'}}\n",
            "2025-07-11 09:53:37,283 - semantic_kernel.functions.kernel_function - INFO - Function FlightBookingTool-book_flight succeeded.\n",
            "2025-07-11 09:53:37,284 - semantic_kernel.functions.kernel_function - INFO - Function completed. Duration: 2.969233s\n",
            "2025-07-11 09:53:38,267 - httpx - INFO - HTTP Request: POST https://aoai-sweden-gbb-dev.openai.azure.com/openai/deployments/gpt-4o/chat/completions?api-version=2025-03-01-preview \"HTTP/1.1 200 OK\"\n",
            "2025-07-11 09:53:38,270 - semantic_kernel.connectors.ai.open_ai.services.open_ai_handler - INFO - OpenAI usage: CompletionUsage(completion_tokens=63, prompt_tokens=3480, total_tokens=3543, completion_tokens_details=CompletionTokensDetails(accepted_prediction_tokens=0, audio_tokens=0, reasoning_tokens=0, rejected_prediction_tokens=0), prompt_tokens_details=PromptTokensDetails(audio_tokens=0, cached_tokens=0))\n",
            "2025-07-11 09:53:38,270 - __main__ - INFO - Travel agent response: Your flight from San Francisco to Tokyo on December 25th for 2 passengers in Business Class has been successfully booked! \n",
            "\n",
            "You will receive additional details, including the itinerary and e-tickets, via email. If you have any more questions or need further assistance, feel free to ask. Safe travels!\n"
          ]
        },
        {
          "name": "stdout",
          "output_type": "stream",
          "text": [
            "--------------------------------------------------\n",
            "Final Response\n",
            "--------------------------------------------------\n",
            "Agent: Your flight from San Francisco to Tokyo on December 25th for 2 passengers in Business Class has been successfully booked! \n",
            "\n",
            "You will receive additional details, including the itinerary and e-tickets, via email. If you have any more questions or need further assistance, feel free to ask. Safe travels!\n",
            "--------------------------------------------------\n"
          ]
        }
      ],
      "source": [
        "# Test 2: Flight booking request (should trigger A2A communication)\n",
        "print(\"🧪 Test 2: Flight booking request (A2A communication)\")\n",
        "response = await chat_with_travel_agent(\n",
        "    \"I need to book a flight from San Francisco to Tokyo on December 25th\",\n",
        "    \"demo_context\"\n",
        ")\n",
        "print(\"-\" * 50)\n",
        "print(\"Final Response\")\n",
        "print(\"-\" * 50)\n",
        "print(f\"Agent: {response}\")\n",
        "print(\"-\" * 50)"
      ]
    },
    {
      "cell_type": "code",
      "execution_count": 29,
      "metadata": {},
      "outputs": [
        {
          "name": "stderr",
          "output_type": "stream",
          "text": [
            "2025-07-11 09:53:38,279 - __main__ - INFO - Received travel chat request: Make it for 2 passengers, and I prefer business class with context ID: demo_context\n"
          ]
        },
        {
          "name": "stdout",
          "output_type": "stream",
          "text": [
            "🧪 Test 3: Follow-up with more flight details\n"
          ]
        },
        {
          "name": "stderr",
          "output_type": "stream",
          "text": [
            "2025-07-11 09:53:38,904 - httpx - INFO - HTTP Request: POST https://aoai-sweden-gbb-dev.openai.azure.com/openai/deployments/gpt-4o/chat/completions?api-version=2025-03-01-preview \"HTTP/1.1 200 OK\"\n",
            "2025-07-11 09:53:38,906 - semantic_kernel.connectors.ai.open_ai.services.open_ai_handler - INFO - OpenAI usage: CompletionUsage(completion_tokens=41, prompt_tokens=3629, total_tokens=3670, completion_tokens_details=CompletionTokensDetails(accepted_prediction_tokens=0, audio_tokens=0, reasoning_tokens=0, rejected_prediction_tokens=0), prompt_tokens_details=PromptTokensDetails(audio_tokens=0, cached_tokens=0))\n",
            "2025-07-11 09:53:38,907 - semantic_kernel.connectors.ai.chat_completion_client_base - INFO - processing 1 tool calls in parallel.\n",
            "2025-07-11 09:53:38,907 - semantic_kernel.kernel - INFO - Calling FlightBookingTool-book_flight function with args: {\"user_input\":\"Book a flight from San Francisco to Tokyo on December 25th for 2 passengers in business class.\"}\n",
            "2025-07-11 09:53:38,908 - semantic_kernel.functions.kernel_function - INFO - Function FlightBookingTool-book_flight invoking.\n",
            "2025-07-11 09:53:38,942 - httpx - INFO - HTTP Request: GET http://0.0.0.0:9999/.well-known/agent.json \"HTTP/1.1 200 OK\"\n",
            "2025-07-11 09:53:38,943 - a2a.client.client - INFO - Successfully fetched agent card data from http://0.0.0.0:9999/.well-known/agent.json: {'capabilities': {'streaming': True}, 'defaultInputModes': ['text'], 'defaultOutputModes': ['text'], 'description': 'An agent that helps users book flights using semantic kernel capabilities.', 'name': 'Semantic Kernel Flight Booking Agent', 'protocolVersion': '0.2.5', 'skills': [{'description': 'Assists users in booking flights based on their requests.', 'examples': ['Book a flight from New York to London next Monday.', 'I need a flight to Paris tomorrow morning.'], 'id': 'flight_booking', 'name': 'Flight Booking', 'tags': ['flight', 'booking', 'travel']}], 'supportsAuthenticatedExtendedCard': False, 'url': 'http://0.0.0.0:9999', 'version': '1.0.0'}\n",
            "2025-07-11 09:53:40,409 - httpx - INFO - HTTP Request: POST http://0.0.0.0:9999 \"HTTP/1.1 200 OK\"\n",
            "2025-07-11 09:53:40,410 - __main__ - INFO - Flight booking tool response: {'id': '013167c1-f305-4355-a609-14f5f9cae330', 'jsonrpc': '2.0', 'result': {'kind': 'message', 'messageId': '08b06dfa-490b-4715-a13d-b4b0ae17b9b8', 'parts': [{'kind': 'text', 'text': \"Certainly! Here is a summary of your flight booking request:\\n\\n- **Departure City:** San Francisco\\n- **Destination City:** Tokyo\\n- **Travel Date:** December 25th\\n- **Number of Passengers:** 2\\n- **Class of Service:** Business Class\\n\\nLet's get this booking underway. Please hold on for just a moment.\\n\\n---\\n\\nYour flight booking from San Francisco to Tokyo on December 25th for 2 passengers in Business Class has been successfully completed!\\n\\nYou will receive further details, including the itinerary and e-tickets, via email shortly. Should you have any more questions or require additional assistance, feel free to reach out. Safe travels!\"}], 'role': 'agent'}}\n",
            "2025-07-11 09:53:40,412 - semantic_kernel.functions.kernel_function - INFO - Function FlightBookingTool-book_flight succeeded.\n",
            "2025-07-11 09:53:40,412 - semantic_kernel.functions.kernel_function - INFO - Function completed. Duration: 1.503966s\n",
            "2025-07-11 09:53:41,220 - httpx - INFO - HTTP Request: POST https://aoai-sweden-gbb-dev.openai.azure.com/openai/deployments/gpt-4o/chat/completions?api-version=2025-03-01-preview \"HTTP/1.1 200 OK\"\n",
            "2025-07-11 09:53:41,222 - semantic_kernel.connectors.ai.open_ai.services.open_ai_handler - INFO - OpenAI usage: CompletionUsage(completion_tokens=64, prompt_tokens=3815, total_tokens=3879, completion_tokens_details=CompletionTokensDetails(accepted_prediction_tokens=0, audio_tokens=0, reasoning_tokens=0, rejected_prediction_tokens=0), prompt_tokens_details=PromptTokensDetails(audio_tokens=0, cached_tokens=3200))\n",
            "2025-07-11 09:53:41,222 - __main__ - INFO - Travel agent response: Your flight from San Francisco to Tokyo on December 25th for 2 passengers in Business Class has been successfully booked!\n",
            "\n",
            "You will receive further details, including the itinerary and e-tickets, via email shortly. If you have any more questions or need additional assistance, feel free to reach out. Safe travels!\n"
          ]
        },
        {
          "name": "stdout",
          "output_type": "stream",
          "text": [
            "--------------------------------------------------\n",
            "Final Response\n",
            "--------------------------------------------------\n",
            "Agent: Your flight from San Francisco to Tokyo on December 25th for 2 passengers in Business Class has been successfully booked!\n",
            "\n",
            "You will receive further details, including the itinerary and e-tickets, via email shortly. If you have any more questions or need additional assistance, feel free to reach out. Safe travels!\n",
            "--------------------------------------------------\n"
          ]
        }
      ],
      "source": [
        "\n",
        "    # Test 3: Follow-up with more flight details (should continue A2A communication)\n",
        "print(\"🧪 Test 3: Follow-up with more flight details\")\n",
        "response = await chat_with_travel_agent(\n",
        "    \"Make it for 2 passengers, and I prefer business class\",\n",
        "    \"demo_context\"\n",
        ")\n",
        "print(\"-\" * 50)\n",
        "print(\"Final Response\")\n",
        "print(\"-\" * 50)\n",
        "print(f\"Agent: {response}\")\n",
        "print(\"-\" * 50)"
      ]
    },
    {
      "cell_type": "code",
      "execution_count": 30,
      "metadata": {},
      "outputs": [
        {
          "name": "stderr",
          "output_type": "stream",
          "text": [
            "2025-07-11 09:53:41,228 - __main__ - INFO - Received travel chat request: What's the best time to visit Paris? Also, can you book me a flight there for next month? with context ID: demo_context2\n"
          ]
        },
        {
          "name": "stdout",
          "output_type": "stream",
          "text": [
            "🧪 Test 4: Mixed request (travel advice + flight booking)\n"
          ]
        },
        {
          "name": "stderr",
          "output_type": "stream",
          "text": [
            "2025-07-11 09:53:41,967 - httpx - INFO - HTTP Request: POST https://aoai-sweden-gbb-dev.openai.azure.com/openai/deployments/gpt-4o/chat/completions?api-version=2025-03-01-preview \"HTTP/1.1 200 OK\"\n",
            "2025-07-11 09:53:41,969 - semantic_kernel.connectors.ai.open_ai.services.open_ai_handler - INFO - OpenAI usage: CompletionUsage(completion_tokens=29, prompt_tokens=632, total_tokens=661, completion_tokens_details=CompletionTokensDetails(accepted_prediction_tokens=0, audio_tokens=0, reasoning_tokens=0, rejected_prediction_tokens=0), prompt_tokens_details=PromptTokensDetails(audio_tokens=0, cached_tokens=0))\n",
            "2025-07-11 09:53:41,970 - semantic_kernel.connectors.ai.chat_completion_client_base - INFO - processing 1 tool calls in parallel.\n",
            "2025-07-11 09:53:41,971 - semantic_kernel.kernel - INFO - Calling FlightBookingTool-book_flight function with args: {\"user_input\":\"Book a flight to Paris for next month.\"}\n",
            "2025-07-11 09:53:41,972 - semantic_kernel.functions.kernel_function - INFO - Function FlightBookingTool-book_flight invoking.\n",
            "2025-07-11 09:53:42,006 - httpx - INFO - HTTP Request: GET http://0.0.0.0:9999/.well-known/agent.json \"HTTP/1.1 200 OK\"\n",
            "2025-07-11 09:53:42,007 - a2a.client.client - INFO - Successfully fetched agent card data from http://0.0.0.0:9999/.well-known/agent.json: {'capabilities': {'streaming': True}, 'defaultInputModes': ['text'], 'defaultOutputModes': ['text'], 'description': 'An agent that helps users book flights using semantic kernel capabilities.', 'name': 'Semantic Kernel Flight Booking Agent', 'protocolVersion': '0.2.5', 'skills': [{'description': 'Assists users in booking flights based on their requests.', 'examples': ['Book a flight from New York to London next Monday.', 'I need a flight to Paris tomorrow morning.'], 'id': 'flight_booking', 'name': 'Flight Booking', 'tags': ['flight', 'booking', 'travel']}], 'supportsAuthenticatedExtendedCard': False, 'url': 'http://0.0.0.0:9999', 'version': '1.0.0'}\n",
            "2025-07-11 09:53:43,018 - httpx - INFO - HTTP Request: POST http://0.0.0.0:9999 \"HTTP/1.1 200 OK\"\n",
            "2025-07-11 09:53:43,020 - __main__ - INFO - Flight booking tool response: {'id': 'ff926de7-c7ea-4d38-a9b7-054fdb6cea7c', 'jsonrpc': '2.0', 'result': {'kind': 'message', 'messageId': '6f1c1825-ccdc-4bab-a0ad-1be3e59bd8ea', 'parts': [{'kind': 'text', 'text': \"I'd be happy to assist you with booking a flight to Paris next month. To proceed, could you please provide the following details:\\n\\n1. Departure city?\\n2. Specific travel dates?\\n3. Number of passengers?\\n4. Preferred class of service (Economy, Business, or First Class)?\\n\\nOnce I have this information, I can help you finalize your booking.\"}], 'role': 'agent'}}\n",
            "2025-07-11 09:53:43,023 - semantic_kernel.functions.kernel_function - INFO - Function FlightBookingTool-book_flight succeeded.\n",
            "2025-07-11 09:53:43,023 - semantic_kernel.functions.kernel_function - INFO - Function completed. Duration: 1.051077s\n",
            "2025-07-11 09:53:44,147 - httpx - INFO - HTTP Request: POST https://aoai-sweden-gbb-dev.openai.azure.com/openai/deployments/gpt-4o/chat/completions?api-version=2025-03-01-preview \"HTTP/1.1 200 OK\"\n",
            "2025-07-11 09:53:44,149 - semantic_kernel.connectors.ai.open_ai.services.open_ai_handler - INFO - OpenAI usage: CompletionUsage(completion_tokens=97, prompt_tokens=745, total_tokens=842, completion_tokens_details=CompletionTokensDetails(accepted_prediction_tokens=0, audio_tokens=0, reasoning_tokens=0, rejected_prediction_tokens=0), prompt_tokens_details=PromptTokensDetails(audio_tokens=0, cached_tokens=0))\n",
            "2025-07-11 09:53:44,150 - __main__ - INFO - Travel agent response: The best time to visit Paris is typically during spring (April to June) and fall (September to November) when the weather is mild and the city is less crowded compared to summer.\n",
            "\n",
            "To book a flight for next month, I'll need a few details:\n",
            "- Your departure city\n",
            "- Specific travel dates in November\n",
            "- Number of passengers\n",
            "- Preferred class (Economy, Business, First)\n",
            "\n",
            "Could you please provide this information so I can assist you with booking the flight?\n"
          ]
        },
        {
          "name": "stdout",
          "output_type": "stream",
          "text": [
            "--------------------------------------------------\n",
            "Final Response\n",
            "--------------------------------------------------\n",
            "Agent: The best time to visit Paris is typically during spring (April to June) and fall (September to November) when the weather is mild and the city is less crowded compared to summer.\n",
            "\n",
            "To book a flight for next month, I'll need a few details:\n",
            "- Your departure city\n",
            "- Specific travel dates in November\n",
            "- Number of passengers\n",
            "- Preferred class (Economy, Business, First)\n",
            "\n",
            "Could you please provide this information so I can assist you with booking the flight?\n",
            "--------------------------------------------------\n"
          ]
        }
      ],
      "source": [
        "print(\"🧪 Test 4: Mixed request (travel advice + flight booking)\")\n",
        "response = await chat_with_travel_agent(\n",
        "    \"What's the best time to visit Paris? Also, can you book me a flight there for next month?\",\n",
        "    \"demo_context2\"\n",
        ")\n",
        "print(\"-\" * 50)\n",
        "print(\"Final Response\")\n",
        "print(\"-\" * 50)\n",
        "print(f\"Agent: {response}\")\n",
        "print(\"-\" * 50)"
      ]
    },
    {
      "cell_type": "code",
      "execution_count": 31,
      "metadata": {},
      "outputs": [
        {
          "name": "stderr",
          "output_type": "stream",
          "text": [
            "2025-07-11 10:00:59,014 - __main__ - INFO - Received travel chat request: It's going to be just for myself, departing from Cairo on the 15th of November for 5 days and lets do Economy class with context ID: demo_context2\n"
          ]
        },
        {
          "name": "stdout",
          "output_type": "stream",
          "text": [
            "🧪 Test 4: Mixed request (travel advice + flight booking)\n"
          ]
        },
        {
          "name": "stderr",
          "output_type": "stream",
          "text": [
            "2025-07-11 10:01:00,103 - httpx - INFO - HTTP Request: POST https://aoai-sweden-gbb-dev.openai.azure.com/openai/deployments/gpt-4o/chat/completions?api-version=2025-03-01-preview \"HTTP/1.1 200 OK\"\n",
            "2025-07-11 10:01:00,107 - semantic_kernel.connectors.ai.open_ai.services.open_ai_handler - INFO - OpenAI usage: CompletionUsage(completion_tokens=45, prompt_tokens=977, total_tokens=1022, completion_tokens_details=CompletionTokensDetails(accepted_prediction_tokens=0, audio_tokens=0, reasoning_tokens=0, rejected_prediction_tokens=0), prompt_tokens_details=PromptTokensDetails(audio_tokens=0, cached_tokens=0))\n",
            "2025-07-11 10:01:00,108 - semantic_kernel.connectors.ai.chat_completion_client_base - INFO - processing 1 tool calls in parallel.\n",
            "2025-07-11 10:01:00,109 - semantic_kernel.kernel - INFO - Calling FlightBookingTool-book_flight function with args: {\"user_input\":\"Book a flight from Cairo to Paris departing on November 15th for 5 days, Economy class, for one passenger.\"}\n",
            "2025-07-11 10:01:00,111 - semantic_kernel.functions.kernel_function - INFO - Function FlightBookingTool-book_flight invoking.\n",
            "2025-07-11 10:01:00,149 - httpx - INFO - HTTP Request: GET http://0.0.0.0:9999/.well-known/agent.json \"HTTP/1.1 200 OK\"\n",
            "2025-07-11 10:01:00,149 - a2a.client.client - INFO - Successfully fetched agent card data from http://0.0.0.0:9999/.well-known/agent.json: {'capabilities': {'streaming': True}, 'defaultInputModes': ['text'], 'defaultOutputModes': ['text'], 'description': 'An agent that helps users book flights using semantic kernel capabilities.', 'name': 'Semantic Kernel Flight Booking Agent', 'protocolVersion': '0.2.5', 'skills': [{'description': 'Assists users in booking flights based on their requests.', 'examples': ['Book a flight from New York to London next Monday.', 'I need a flight to Paris tomorrow morning.'], 'id': 'flight_booking', 'name': 'Flight Booking', 'tags': ['flight', 'booking', 'travel']}], 'supportsAuthenticatedExtendedCard': False, 'url': 'http://0.0.0.0:9999', 'version': '1.0.0'}\n",
            "2025-07-11 10:01:02,117 - httpx - INFO - HTTP Request: POST http://0.0.0.0:9999 \"HTTP/1.1 200 OK\"\n",
            "2025-07-11 10:01:02,118 - __main__ - INFO - Flight booking tool response: {'id': '22507179-c39a-41b0-bf5e-6aab5b9f3542', 'jsonrpc': '2.0', 'result': {'kind': 'message', 'messageId': 'e63976b4-fdfd-4a22-9c6d-4258c21650c6', 'parts': [{'kind': 'text', 'text': \"Thank you for providing the details. Here's a summary of your flight booking request:\\n\\n- **Departure City:** Cairo\\n- **Destination City:** Paris\\n- **Departure Date:** November 15th\\n- **Return Date:** November 20th (5-day trip)\\n- **Number of Passengers:** 1\\n- **Class of Service:** Economy Class\\n\\nI will proceed with the booking now. Please hold on for a few moments.\\n\\n---\\n\\nYour flight booking from Cairo to Paris, departing on November 15th and returning on November 20th, for one passenger in Economy Class has been successfully confirmed!\\n\\nYou will soon receive all the details, including the itinerary and e-tickets, via email. If you have any further questions or need additional assistance, feel free to let me know. Enjoy your trip!\"}], 'role': 'agent'}}\n",
            "2025-07-11 10:01:02,120 - semantic_kernel.functions.kernel_function - INFO - Function FlightBookingTool-book_flight succeeded.\n",
            "2025-07-11 10:01:02,122 - semantic_kernel.functions.kernel_function - INFO - Function completed. Duration: 2.009866s\n",
            "2025-07-11 10:01:03,196 - httpx - INFO - HTTP Request: POST https://aoai-sweden-gbb-dev.openai.azure.com/openai/deployments/gpt-4o/chat/completions?api-version=2025-03-01-preview \"HTTP/1.1 200 OK\"\n",
            "2025-07-11 10:01:03,198 - semantic_kernel.connectors.ai.open_ai.services.open_ai_handler - INFO - OpenAI usage: CompletionUsage(completion_tokens=76, prompt_tokens=1197, total_tokens=1273, completion_tokens_details=CompletionTokensDetails(accepted_prediction_tokens=0, audio_tokens=0, reasoning_tokens=0, rejected_prediction_tokens=0), prompt_tokens_details=PromptTokensDetails(audio_tokens=0, cached_tokens=0))\n",
            "2025-07-11 10:01:03,199 - __main__ - INFO - Travel agent response: Your flight booking from Cairo to Paris, departing on November 15th and returning on November 20th, for one passenger in Economy Class has been successfully confirmed!\n",
            "\n",
            "You will soon receive all the details, including the itinerary and e-tickets, via email. If you have any further questions or need additional assistance, feel free to let me know. Enjoy your trip!\n"
          ]
        },
        {
          "name": "stdout",
          "output_type": "stream",
          "text": [
            "--------------------------------------------------\n",
            "Final Response\n",
            "--------------------------------------------------\n",
            "Agent: Your flight booking from Cairo to Paris, departing on November 15th and returning on November 20th, for one passenger in Economy Class has been successfully confirmed!\n",
            "\n",
            "You will soon receive all the details, including the itinerary and e-tickets, via email. If you have any further questions or need additional assistance, feel free to let me know. Enjoy your trip!\n",
            "--------------------------------------------------\n"
          ]
        }
      ],
      "source": [
        "print(\"🧪 Test 4: Mixed request (travel advice + flight booking)\")\n",
        "response = await chat_with_travel_agent(\n",
        "    \"It's going to be just for myself, departing from Cairo on the 15th of November for 5 days and lets do Economy class\",\n",
        "    \"demo_context2\"\n",
        ")\n",
        "print(\"-\" * 50)\n",
        "print(\"Final Response\")\n",
        "print(\"-\" * 50)\n",
        "print(f\"Agent: {response}\")\n",
        "print(\"-\" * 50)"
      ]
    },
    {
      "cell_type": "markdown",
      "metadata": {
        "vscode": {
          "languageId": "raw"
        }
      },
      "source": [
        "### Interactive Chat\n",
        "\n",
        "You can now interact with the Travel Planning Agent directly. Try asking about travel destinations, flight bookings, or any travel-related questions:\n"
      ]
    },
    {
      "cell_type": "code",
      "execution_count": null,
      "metadata": {},
      "outputs": [],
      "source": [
        "# Interactive Chat Function\n",
        "async def interactive_chat():\n",
        "    \"\"\"Interactive chat with the Travel Planning Agent.\"\"\"\n",
        "    print(\"💬 Starting interactive chat with Travel Planning Agent\")\n",
        "    print(\"Type 'exit' to end the conversation\")\n",
        "    print(\"-\" * 50)\n",
        "    \n",
        "    context_id = \"interactive_session\"\n",
        "    \n",
        "    while True:\n",
        "        try:\n",
        "            # In a real Jupyter environment, you might want to use input() or ipywidgets\n",
        "            user_input = input(\"You: \")\n",
        "            \n",
        "            if user_input.lower() in ['exit', 'quit', 'bye']:\n",
        "                print(\"👋 Thank you for chatting! Goodbye!\")\n",
        "                break\n",
        "                \n",
        "            if user_input.strip():\n",
        "                response = await chat_with_travel_agent(user_input, context_id)\n",
        "                print(f\"Travel Agent: {response}\")\n",
        "                print(\"-\" * 50)\n",
        "                \n",
        "        except KeyboardInterrupt:\n",
        "            print(\"\\n👋 Chat ended by user. Goodbye!\")\n",
        "            break\n",
        "        except Exception as e:\n",
        "            print(f\"❌ Error: {e}\")\n",
        "            print(\"-\" * 50)\n",
        "\n",
        "# Example usage (uncomment to run interactively)\n",
        "# await interactive_chat()\n",
        "\n",
        "# For demonstration, let's show some example interactions\n",
        "print(\"💡 Example interactions you can try:\")\n",
        "print(\"- 'What are the best beaches in Thailand?'\")\n",
        "print(\"- 'Book a flight from London to New York tomorrow'\")\n",
        "print(\"- 'What's the weather like in Tokyo in spring?'\")\n",
        "print(\"- 'I need a round-trip flight to Paris for 2 people'\")\n",
        "print(\"- 'Tell me about travel insurance options'\")\n",
        "print(\"\")\n",
        "print(\"💬 To start interactive chat, uncomment and run: await interactive_chat()\")\n"
      ]
    },
    {
      "cell_type": "markdown",
      "metadata": {
        "vscode": {
          "languageId": "raw"
        }
      },
      "source": [
        "## Summary and Key Concepts\n",
        "\n",
        "Congratulations! You've successfully implemented Agent-to-Agent (A2A) communication using Semantic Kernel. Here's what we accomplished:\n",
        "\n",
        "### 🎯 What We Built\n",
        "\n",
        "1. **Flight Booking Agent**: A specialized agent that handles flight bookings\n",
        "2. **A2A Server**: Exposes the flight booking agent via HTTP API\n",
        "3. **Travel Planning Agent**: A general travel agent that uses the flight booking agent as a tool\n",
        "4. **A2A Communication**: Seamless communication between agents\n",
        "\n",
        "### 🔑 Key Concepts Learned\n",
        "\n",
        "#### 1. **Agent Specialization**\n",
        "- Each agent has a specific purpose and set of capabilities\n",
        "- Specialization leads to better performance and maintainability\n",
        "- Agents can be developed and deployed independently\n",
        "\n",
        "#### 2. **A2A Protocol**\n",
        "- Standardized way for agents to communicate\n",
        "- Includes agent cards, skill definitions, and message formats\n",
        "- Enables discovery and invocation of agent capabilities\n",
        "\n",
        "#### 3. **Tool Integration**\n",
        "- Agents can use other agents as tools\n",
        "- Semantic Kernel's function calling mechanism works with A2A\n",
        "- Allows for complex workflows and orchestration\n",
        "\n",
        "#### 4. **Context Management**\n",
        "- Each agent maintains its own conversation context\n",
        "- Context IDs ensure proper conversation tracking\n",
        "- Enables stateful interactions across agent boundaries\n",
        "\n",
        "### 🏗️ Architecture Benefits\n",
        "\n",
        "1. **Modularity**: Each agent can be developed, tested, and deployed separately\n",
        "2. **Scalability**: Agents can be scaled independently based on demand\n",
        "3. **Reusability**: Specialized agents can be used by multiple orchestrators\n",
        "4. **Maintainability**: Clear separation of concerns makes code easier to maintain\n",
        "\n",
        "### 🚀 Next Steps\n",
        "\n",
        "To extend this implementation, you could:\n",
        "\n",
        "1. **Add More Specialized Agents**: Hotel booking, car rental, restaurant recommendations\n",
        "2. **Implement Authentication**: Add security to agent communications\n",
        "3. **Add Monitoring**: Track agent performance and usage metrics\n",
        "4. **Deploy to Production**: Use container orchestration for scalability\n",
        "5. **Add More Tools**: Integrate with real booking APIs and services\n",
        "\n",
        "### 💡 Best Practices\n",
        "\n",
        "1. **Design for Single Responsibility**: Each agent should have a clear, focused purpose\n",
        "2. **Use Descriptive Agent Cards**: Help other agents understand capabilities\n",
        "3. **Implement Error Handling**: Handle network failures and agent unavailability\n",
        "4. **Monitor Agent Health**: Ensure agents are responsive and functioning correctly\n",
        "5. **Version Your Agents**: Use semantic versioning for agent APIs\n",
        "\n",
        "This tutorial demonstrates the power of agent-to-agent communication in creating sophisticated, distributed AI systems. The modular approach allows for building complex workflows while maintaining clean, maintainable code.\"\n"
      ]
    },
    {
      "cell_type": "markdown",
      "metadata": {
        "vscode": {
          "languageId": "raw"
        }
      },
      "source": [
        "## Optional: Cleanup\n",
        "\n",
        "If you want to stop the A2A server that's running in the background, you can run the following code:\n"
      ]
    },
    {
      "cell_type": "code",
      "execution_count": null,
      "metadata": {},
      "outputs": [],
      "source": [
        "# Optional: Cleanup\n",
        "# Note: The server thread is running as a daemon thread, so it will automatically\n",
        "# terminate when the main Python process ends. If you want to explicitly check\n",
        "# if the server is still running, you can use:\n",
        "\n",
        "if server_thread.is_alive():\n",
        "    print(\"✅ A2A Server is still running in the background\")\n",
        "    print(\"🔧 The server will automatically stop when the notebook kernel is restarted\")\n",
        "else:\n",
        "    print(\"❌ A2A Server thread has stopped\")\n",
        "\n",
        "# You can also check the server status again\n",
        "print(\"\\n🔍 Final server status check:\")\n",
        "await check_server_status()\n",
        "\n",
        "print(\"\\n🎉 Tutorial completed successfully!\")\n",
        "print(\"💡 Remember: The A2A server runs as a daemon thread and will stop automatically when the notebook kernel is restarted.\")\n"
      ]
    },
    {
      "cell_type": "markdown",
      "metadata": {
        "vscode": {
          "languageId": "raw"
        }
      },
      "source": [
        "## Running the Standalone Agent Files\n",
        "\n",
        "This tutorial includes standalone implementations of both agents that can be run independently:\n",
        "\n",
        "### Flight Booking Agent Server\n",
        "The flight booking agent is available as a standalone server in the `flight-booking-agent/` directory:\n",
        "\n",
        "```bash\n",
        "cd flight-booking-agent/\n",
        "uv run server.py\n",
        "```\n",
        "\n",
        "This will start the A2A server on `http://localhost:9999` with the flight booking agent.\n",
        "\n",
        "### Travel Booking Agent\n",
        "The travel booking agent with a web interface is available in the `travel-booking-agent/` directory:\n",
        "\n",
        "```bash\n",
        "cd travel-booking-agent/\n",
        "uv run agent.py\n",
        "```\n",
        "\n",
        "This will start a local web server where you can interact with the travel planning agent through a browser interface."
      ]
    },
    {
      "cell_type": "markdown",
      "metadata": {},
      "source": []
    }
  ],
  "metadata": {
    "kernelspec": {
      "display_name": ".venv",
      "language": "python",
      "name": "python3"
    },
    "language_info": {
      "codemirror_mode": {
        "name": "ipython",
        "version": 3
      },
      "file_extension": ".py",
      "mimetype": "text/x-python",
      "name": "python",
      "nbconvert_exporter": "python",
      "pygments_lexer": "ipython3",
      "version": "3.12.0"
    }
  },
  "nbformat": 4,
  "nbformat_minor": 2
}
